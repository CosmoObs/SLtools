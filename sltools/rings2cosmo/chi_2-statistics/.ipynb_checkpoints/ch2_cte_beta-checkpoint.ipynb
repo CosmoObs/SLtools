{
 "cells": [
  {
   "cell_type": "markdown",
   "id": "1feac449-9a98-4a11-a19d-47970fc727da",
   "metadata": {},
   "source": [
    "# $\\chi^2$ statistics for constant $\\beta$ "
   ]
  },
  {
   "cell_type": "code",
   "execution_count": 1,
   "id": "83f95388-be76-472c-b24f-8cbbc9e3730e",
   "metadata": {},
   "outputs": [],
   "source": [
    "import sys\n",
    "\n",
    "sys.path.append('../')\n",
    "import rings2cosmo\n",
    "import pandas as pd\n",
    "import numpy as np\n",
    "\n"
   ]
  },
  {
   "cell_type": "code",
   "execution_count": 2,
   "id": "34b4f432-ba44-44ee-9de9-4160fa5c9f71",
   "metadata": {},
   "outputs": [],
   "source": [
    "data = pd.read_csv('../data/sample80.csv')\n",
    "z_L = data['zl'].values\n",
    "z_S = data['zs'].values\n",
    "theta_E = (data['theta_E'].values * rings2cosmo.u.arcsec).to(rings2cosmo.u.rad).value\n",
    "theta_ap = (data['theta_ap'].values * rings2cosmo.u.arcsec).to(rings2cosmo.u.rad).value\n",
    "seeing_atm = (data['sigma_atm'].values * rings2cosmo.u.arcsec).to(rings2cosmo.u.rad).value\n",
    "velDisp = data['sigma_ap'].values\n",
    "velDispErr = data['d_sigma_ap'].values"
   ]
  },
  {
   "cell_type": "markdown",
   "id": "428e9f79-274f-4a18-a7fc-88c4088d5bde",
   "metadata": {},
   "source": [
    "First the $\\chi^2$ is given by\n",
    "\n",
    "$$\n",
    "\\chi^2 = c - 2ln(\\mathfrak{L}(\\mathbf{X_{fitted}})) = \\sum\\left(\\frac{(\\sigma_{SDSS} - \\sigma_*)^2}{\\varepsilon^2_{SDSS}}\\right)\n",
    "$$\n",
    "\n",
    "but I set $c$ so it is zero.\n",
    "\n",
    "For constant $\\beta$ the parameters $\\mathbf{X}$ are $\\alpha$, $\\delta$, $\\beta_0$ and $\\gamma$ \n"
   ]
  },
  {
   "cell_type": "code",
   "execution_count": 3,
   "id": "dcf44c61-08e5-4aff-af5e-c1c87e15e3a4",
   "metadata": {},
   "outputs": [],
   "source": [
    "def chi_2(theta, z_S, z_L, velDisp, velDispErr, theta_E, seeing_atm, theta_ap):\n",
    "    \n",
    "    alpha, beta, delta, gamma = theta\n",
    "    model = rings2cosmo.vel(z_S, z_L, theta_E, seeing_atm,\n",
    "                theta_ap, alpha, beta, gamma, delta)\n",
    "    return  np.sum((velDisp - model) ** 2 / (velDispErr ** 2))"
   ]
  },
  {
   "cell_type": "code",
   "execution_count": 4,
   "id": "bba807c4-ff77-4213-9803-e739157c30a6",
   "metadata": {},
   "outputs": [],
   "source": [
    "#The values fitted are\n",
    "alpha = 2.0\n",
    "delta = 2.4\n",
    "beta0 = 0.18 \n",
    "gamma = 0.998\n",
    "\n",
    "X = (alpha, beta0, delta, gamma)"
   ]
  },
  {
   "cell_type": "code",
   "execution_count": 5,
   "id": "32cc043b-20ed-4a9d-92a3-5903459cfbd6",
   "metadata": {},
   "outputs": [],
   "source": [
    "chi2 = chi_2(X, z_S, z_L, velDisp, velDispErr, theta_E, seeing_atm, theta_ap)"
   ]
  },
  {
   "cell_type": "code",
   "execution_count": 6,
   "id": "b9b8dff1-f251-46e4-8f4b-72c18e563461",
   "metadata": {},
   "outputs": [
    {
     "data": {
      "text/latex": [
       "$186.19385 \\; \\mathrm{}$"
      ],
      "text/plain": [
       "<Quantity 186.19384969>"
      ]
     },
     "execution_count": 6,
     "metadata": {},
     "output_type": "execute_result"
    }
   ],
   "source": [
    "chi2"
   ]
  },
  {
   "cell_type": "markdown",
   "id": "40bd5d01-4f94-4046-a934-066b1d983a4f",
   "metadata": {},
   "source": [
    "\n",
    "$$\n",
    "\\chi^2/(n - df)\n",
    "$$\n",
    "where n is the sample size and df is the degree of freedom \n",
    "$$\n",
    "n = 80\n",
    "$$\n",
    " and for this case, if we consider priors on $\\alpha$, $\\delta$ and $\\beta_0$, then the only free paramer is $\\gamma_{PPN}$, and therefore \n",
    " $$\n",
    " df = 1\n",
    " $$"
   ]
  },
  {
   "cell_type": "code",
   "execution_count": 7,
   "id": "90ff07f9-531b-46de-95e5-dae189d6d6b0",
   "metadata": {
    "tags": []
   },
   "outputs": [
    {
     "data": {
      "text/latex": [
       "$2.3568842 \\; \\mathrm{}$"
      ],
      "text/plain": [
       "<Quantity 2.35688417>"
      ]
     },
     "execution_count": 7,
     "metadata": {},
     "output_type": "execute_result"
    }
   ],
   "source": [
    "n = 80\n",
    "df = 1.0\n",
    "chi_eff= chi2/(n - df)\n",
    "chi_eff"
   ]
  },
  {
   "cell_type": "code",
   "execution_count": 8,
   "id": "b4efbd4b-4452-4558-8d32-889da24166a0",
   "metadata": {},
   "outputs": [
    {
     "data": {
      "text/html": [
       "<div>\n",
       "<style scoped>\n",
       "    .dataframe tbody tr th:only-of-type {\n",
       "        vertical-align: middle;\n",
       "    }\n",
       "\n",
       "    .dataframe tbody tr th {\n",
       "        vertical-align: top;\n",
       "    }\n",
       "\n",
       "    .dataframe thead th {\n",
       "        text-align: right;\n",
       "    }\n",
       "</style>\n",
       "<table border=\"1\" class=\"dataframe\">\n",
       "  <thead>\n",
       "    <tr style=\"text-align: right;\">\n",
       "      <th></th>\n",
       "      <th>Parameter</th>\n",
       "      <th>cte_cao</th>\n",
       "    </tr>\n",
       "  </thead>\n",
       "  <tbody>\n",
       "    <tr>\n",
       "      <th>0</th>\n",
       "      <td>$\\alpha$</td>\n",
       "      <td>2.0</td>\n",
       "    </tr>\n",
       "    <tr>\n",
       "      <th>1</th>\n",
       "      <td>$\\delta$</td>\n",
       "      <td>2.4</td>\n",
       "    </tr>\n",
       "    <tr>\n",
       "      <th>2</th>\n",
       "      <td>$\\beta_0$</td>\n",
       "      <td>0.18</td>\n",
       "    </tr>\n",
       "    <tr>\n",
       "      <th>3</th>\n",
       "      <td>a</td>\n",
       "      <td>0</td>\n",
       "    </tr>\n",
       "    <tr>\n",
       "      <th>4</th>\n",
       "      <td>$\\gamma_{PPN}$</td>\n",
       "      <td>0.998</td>\n",
       "    </tr>\n",
       "    <tr>\n",
       "      <th>5</th>\n",
       "      <td>$\\chi^2$</td>\n",
       "      <td>186.1938496949082</td>\n",
       "    </tr>\n",
       "    <tr>\n",
       "      <th>6</th>\n",
       "      <td>$\\chi^2_{eff}$</td>\n",
       "      <td>2.3568841733532686</td>\n",
       "    </tr>\n",
       "  </tbody>\n",
       "</table>\n",
       "</div>"
      ],
      "text/plain": [
       "        Parameter             cte_cao\n",
       "0        $\\alpha$                 2.0\n",
       "1        $\\delta$                 2.4\n",
       "2       $\\beta_0$                0.18\n",
       "3               a                   0\n",
       "4  $\\gamma_{PPN}$               0.998\n",
       "5        $\\chi^2$   186.1938496949082\n",
       "6  $\\chi^2_{eff}$  2.3568841733532686"
      ]
     },
     "execution_count": 8,
     "metadata": {},
     "output_type": "execute_result"
    }
   ],
   "source": [
    "#for case where one needs to compare the result cross models\n",
    "pars_df = pd.DataFrame({\"Parameter\": [r\"$\\alpha$\", r\"$\\delta$\", r\"$\\beta_0$\", \"a\", r\"$\\gamma_{PPN}$\", r\"$\\chi^2$\", r\"$\\chi^2_{eff}$\"],\n",
    "            \"cte_cao\": [alpha, delta, beta0, 0, gamma, chi2, chi_eff]})\n",
    "pars_df"
   ]
  },
  {
   "cell_type": "code",
   "execution_count": 9,
   "id": "127c44fb-921e-4eb2-8117-6f5eef42b2b5",
   "metadata": {},
   "outputs": [],
   "source": [
    "# pars_df.to_csv(\"cte_cao.csv\", index = False)"
   ]
  },
  {
   "cell_type": "markdown",
   "id": "ebb1b9a4-a4d9-4ffb-bc51-ba3f30fa0870",
   "metadata": {},
   "source": [
    "# BIC\n",
    "\n",
    "The bayesian information criterium is given by\n",
    "$$ BIC = df*\\ln(N) + \\chi^2 $$"
   ]
  },
  {
   "cell_type": "code",
   "execution_count": 10,
   "id": "1f824f3f-16c1-4efc-aa9b-b41ff7267d3a",
   "metadata": {},
   "outputs": [
    {
     "data": {
      "text/latex": [
       "$190.57588 \\; \\mathrm{}$"
      ],
      "text/plain": [
       "<Quantity 190.57587633>"
      ]
     },
     "execution_count": 10,
     "metadata": {},
     "output_type": "execute_result"
    }
   ],
   "source": [
    "((np.log(80.0))*df) + chi2"
   ]
  },
  {
   "cell_type": "code",
   "execution_count": null,
   "id": "088b35cc-b021-462a-84ae-29c5a8dc5aa4",
   "metadata": {},
   "outputs": [],
   "source": []
  }
 ],
 "metadata": {
  "kernelspec": {
   "display_name": "Python 3 (ipykernel)",
   "language": "python",
   "name": "python3"
  },
  "language_info": {
   "codemirror_mode": {
    "name": "ipython",
    "version": 3
   },
   "file_extension": ".py",
   "mimetype": "text/x-python",
   "name": "python",
   "nbconvert_exporter": "python",
   "pygments_lexer": "ipython3",
   "version": "3.10.3"
  }
 },
 "nbformat": 4,
 "nbformat_minor": 5
}
