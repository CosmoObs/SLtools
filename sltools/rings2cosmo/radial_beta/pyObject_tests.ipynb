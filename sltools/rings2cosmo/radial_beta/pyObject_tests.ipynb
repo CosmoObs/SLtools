{
 "cells": [
  {
   "cell_type": "code",
   "execution_count": 1,
   "id": "ed038c6a-2b68-475a-9c85-e229c67b2c63",
   "metadata": {},
   "outputs": [],
   "source": [
    "import sys\n",
    "\n",
    "sys.path.append('../')\n",
    "import rings2cosmo_Mamon\n",
    "import pandas as pd\n",
    "import seaborn as sns\n",
    "import matplotlib.pyplot as plt\n",
    "import numpy as np\n",
    "import scipy as sp\n",
    "\n",
    "from astropy import constants as const\n",
    "from astropy import units as u\n",
    "from astropy.cosmology import FlatLambdaCDM\n",
    "Hubble = 67.3\n",
    "cosmo = FlatLambdaCDM(H0 = Hubble, Om0 = 0.315)"
   ]
  },
  {
   "cell_type": "code",
   "execution_count": 2,
   "id": "46b0eddb-e72e-4e71-ac58-f25b70c9df80",
   "metadata": {},
   "outputs": [],
   "source": [
    "# Physical constants:\n",
    "c = (const.c).to(u.km/u.second)\n",
    "clight = c.value"
   ]
  },
  {
   "cell_type": "markdown",
   "id": "70af07c0-3746-4556-86ae-b0308860d1bf",
   "metadata": {},
   "source": [
    "## Important Functions"
   ]
  },
  {
   "cell_type": "code",
   "execution_count": 3,
   "id": "1edfb488-232d-4e04-a137-fee7d4e0f1b9",
   "metadata": {},
   "outputs": [],
   "source": [
    "def Lambda_function(x):\n",
    "    \"\"\"Eq. (15) from arXiv:0907.4992v2\n",
    "\n",
    "    Args:\n",
    "        x (float): parameter\n",
    "\n",
    "    Returns:\n",
    "        float: ratio of gamma funcions.\n",
    "    \"\"\"\n",
    "    return sp.special.gamma((x - 1) / 2) / sp.special.gamma(x / 2)"
   ]
  },
  {
   "cell_type": "markdown",
   "id": "0cfaf02e-049e-45ac-9442-f8698ba00680",
   "metadata": {},
   "source": [
    "$$\n",
    "\\mu_E \\equiv  \\frac{1}{1+\\gamma}\\frac{1}{\\sqrt{\\pi}\\lambda (\\alpha)} c^2\\frac{D_S}{D_{LS}}\\frac{D_L^{\\alpha - 2}}{\\theta_E^{1-\\alpha}}$$"
   ]
  },
  {
   "cell_type": "code",
   "execution_count": 4,
   "id": "4f11d364-fb7b-4551-8912-c3b89a09a21f",
   "metadata": {},
   "outputs": [],
   "source": [
    "def virial_mass (DS, DL, DLS, theta_E, gamma, alpha):\n",
    "    gamma_term = 1.0/(1.0 + gamma)\n",
    "    dinamics = Lambda_function(alpha)*(np.sqrt(np.pi))\n",
    "    distance_ratio = DS/DLS\n",
    "    Ering_ratio = (DL**(alpha - 2))/(theta_E**(1 - alpha))\n",
    "    return (clight**2)*gamma_term*distance_ratio*Ering_ratio/dinamics"
   ]
  },
  {
   "cell_type": "markdown",
   "id": "d4107e4e-8655-4247-a317-de9bd90f6b27",
   "metadata": {},
   "source": [
    "$$r_V = \\left( \\frac{2\\mu_E}{\\Delta H_0^2} \\right)^{1/\\alpha}$$"
   ]
  },
  {
   "cell_type": "code",
   "execution_count": 5,
   "id": "7a6bd4a8-1ee8-4b01-8fbd-e37c5d39e87b",
   "metadata": {},
   "outputs": [],
   "source": [
    "def virial_radii (DS, DL, DLS, theta_E, gamma, alpha):\n",
    "    MuE = virial_mass (DS, DL, DLS, theta_E, gamma, alpha)\n",
    "    D = 200\n",
    "    return (2*MuE/(D*Hubble))**(1/alpha)\n",
    "    "
   ]
  },
  {
   "cell_type": "markdown",
   "id": "ef5eb396-95df-415c-a2f9-0a3137e93c2e",
   "metadata": {},
   "source": [
    "$$b = D_L\\tilde{\\sigma}_{atm}$$"
   ]
  },
  {
   "cell_type": "code",
   "execution_count": 6,
   "id": "1a0bfec2-8526-4107-ab37-98a8d57b7e60",
   "metadata": {},
   "outputs": [],
   "source": [
    "def b_func (DL, seeing_atm, theta_ap):\n",
    "    chi = theta_ap/seeing_atm\n",
    "    tilde_sigma = seeing_atm *np.sqrt(1.0 + (chi ** 2.0) / 4.0 + (chi ** 4.0) / 40.0)  # Eq. (20)\n",
    "    \n",
    "    return tilde_sigma*DL"
   ]
  },
  {
   "cell_type": "markdown",
   "id": "4cc96db7-f57c-44c0-b55c-640d37baecd5",
   "metadata": {},
   "source": [
    "## Adding the ctes that I havent added so far"
   ]
  },
  {
   "cell_type": "code",
   "execution_count": 8,
   "id": "a82e8140-8774-4634-ab2b-01eb4d8fcf17",
   "metadata": {},
   "outputs": [],
   "source": [
    "def Weight_normalization(seeing_atm, theta_ap,DL, theta_E, delta):\n",
    "    ## \\tilde{\\sigma}\n",
    "    chi = theta_ap/seeing_atm\n",
    "\n",
    "    tilde_sigma = seeing_atm * \\\n",
    "        np.sqrt(1 + (chi ** 2) / 4 + (chi ** 4) / 40)  # Eq. (20)\n",
    "    \n",
    "    RE = DL*theta_E\n",
    "\n",
    "    #term B\\left ( \\frac{\\delta - 1}{2}, \\frac{1}{2} \\right )\n",
    "    #x = (delta - 1)/2\n",
    "    euler_beta = Lambda_function(delta)*np.sqrt(np.pi)\n",
    "\n",
    "    #term  \\Gamma\\left ( \\frac{3 - \\delta}{2} \\right )\n",
    "    y = (3 - delta)/2\n",
    "    euler_gamma = sp.special.gamma(y)\n",
    "\n",
    "    #term \\left(\\frac{2\\tilde{\\sigma}^2_{atm}}{\\theta_E^2}\\right)\n",
    "    tilde_sigma_by_theta_E = 2*((tilde_sigma/theta_E)**2)\n",
    "\n",
    "    return euler_beta*(RE**(2*y))*(tilde_sigma_by_theta_E**y)*euler_gamma/2"
   ]
  },
  {
   "cell_type": "markdown",
   "id": "3c086198-8ebf-4960-9575-1568e51989fe",
   "metadata": {},
   "source": [
    "$$\n",
    "\\left[\\frac{GM_E}{R_E}\\right] = \\frac{c^2}{2(1+\\gamma)}\\frac{D_S}{D_{LS}}\\theta_E\n",
    "$$"
   ]
  },
  {
   "cell_type": "code",
   "execution_count": 9,
   "id": "3744d719-e3b8-40ca-8c5f-7033e1feda1f",
   "metadata": {},
   "outputs": [],
   "source": [
    "def Relativistic_term (DS, DLS, theta_E, gamma):\n",
    "    return (clight**2.0)*(DS/DLS)*theta_E/(2.0*(1.0+gamma))"
   ]
  },
  {
   "cell_type": "markdown",
   "id": "526a77fd-f4cd-4c1f-8dfd-45bd0bbfabfa",
   "metadata": {},
   "source": [
    "$$\n",
    "C_M = \\left[\\frac{GM_E}{R_E}\\right]\\frac{2}{\\sqrt{\\pi}\\lambda(\\alpha)\\xi(\\xi - 1)}\\left(\\frac{1}{R_E}\\right)^{2 - \\alpha}\n",
    "$$"
   ]
  },
  {
   "cell_type": "code",
   "execution_count": 10,
   "id": "351e0da1-f9e4-4e02-9800-dd10fe19fb4c",
   "metadata": {},
   "outputs": [],
   "source": [
    "def mamon_parameters (DL, DS, DLS, theta_E, alpha, delta,gamma):\n",
    "    xi = delta + alpha - 2\n",
    "    R_E = theta_E*DL\n",
    "    \n",
    "    rel_term = Relativistic_term (DS, DLS, theta_E, gamma)\n",
    "    dim = 2.0/(np.sqrt(np.pi)*Lambda_function(alpha)*xi*(xi - 1)*(R_E**(2 - alpha)))\n",
    "    \n",
    "    return rel_term*dim"
   ]
  },
  {
   "cell_type": "code",
   "execution_count": 11,
   "id": "39a963a6-abfa-43af-8038-2713da1b3cb2",
   "metadata": {},
   "outputs": [],
   "source": [
    "import VDmod\n",
    "\n",
    "def vel(z_S, z_L, theta_E, seeing_atm, theta_ap, virial_frac, alpha, delta, gamma):\n",
    "    DS = cosmo.angular_diameter_distance(z_S).value\n",
    "    DL = cosmo.angular_diameter_distance(z_L).value\n",
    "    DLS = cosmo.angular_diameter_distance_z1z2(z_L, z_S).value\n",
    "    xi = delta + alpha - 2\n",
    "    \n",
    "    b = b_func (DL, seeing_atm, theta_ap)\n",
    "    ra = virial_frac*virial_radii (DS, DL, DLS, theta_E, gamma, alpha)\n",
    "    integral = VDmod.integralVD(b,alpha,delta,ra)\n",
    "\n",
    "    \n",
    "    C_mamon_term = mamon_parameters (DL, DS, DLS, theta_E, alpha, delta,gamma)\n",
    "    weigth_term = Weight_normalization(seeing_atm, theta_ap,DL, theta_E, delta)\n",
    "    vel = C_mamon_term*integral/weigth_term\n",
    "    \n",
    "    return np.sqrt(np.abs(vel))\n",
    " \n"
   ]
  },
  {
   "cell_type": "code",
   "execution_count": 12,
   "id": "782006ce-2171-4d3d-8959-a26749e258d5",
   "metadata": {},
   "outputs": [],
   "source": [
    "vel_vec = np.vectorize(vel)"
   ]
  },
  {
   "cell_type": "code",
   "execution_count": 14,
   "id": "e2428b76-b98d-4f53-b476-b94374f1ebfe",
   "metadata": {
    "tags": []
   },
   "outputs": [
    {
     "data": {
      "text/plain": [
       "array([236.7610242 , 218.81781978, 260.83024563, 226.57127387,\n",
       "       246.77044455, 229.79737049, 202.82600156, 232.15713731,\n",
       "       221.79131035, 264.74057289, 257.38697345, 232.08295603,\n",
       "       231.70975355, 201.38007241, 239.64980257, 205.79078226,\n",
       "       222.25270664, 244.26947296, 261.02674755, 268.95606875,\n",
       "       234.63670033, 250.653489  , 260.86024697, 220.56392201,\n",
       "       259.44365878, 232.79692914, 191.27187191, 198.95469597,\n",
       "       226.24867672, 274.70284373, 222.99096278, 262.0310447 ,\n",
       "       247.66130764, 260.46683494, 284.62915645, 206.19247828,\n",
       "       277.79971678, 234.43677777, 222.83709832, 262.78159409,\n",
       "       197.16111514, 229.68884296, 184.06099419, 230.63530102,\n",
       "       227.10731371, 200.25695034, 290.9798065 , 249.42674103,\n",
       "       195.09464693, 225.80400783, 229.32630317, 196.8061787 ,\n",
       "       282.20042441, 293.9401261 , 230.61129483, 268.5253392 ,\n",
       "       266.33223104, 199.44122656, 259.05797847, 238.49752974,\n",
       "       230.84859774, 260.06264162, 252.65104299, 246.41523222,\n",
       "       194.59901592, 264.81906634, 252.44003877, 255.98337339,\n",
       "       214.55792577, 219.27887548, 304.45837369, 272.50672842,\n",
       "       311.69448117, 265.37355344, 259.45537753, 334.08607224,\n",
       "       255.93712249, 245.34965235, 266.15045173, 269.13430632])"
      ]
     },
     "execution_count": 14,
     "metadata": {},
     "output_type": "execute_result"
    }
   ],
   "source": [
    "data = pd.read_csv('../data/sample80.csv')\n",
    "\n",
    "z_L = data['zl'].values\n",
    "z_S = data['zs'].values\n",
    "theta_E = (data['theta_E'].values * rings2cosmo_Mamon.u.arcsec).to(rings2cosmo_Mamon.u.rad).value\n",
    "theta_ap = (data['theta_ap'].values * rings2cosmo_Mamon.u.arcsec).to(rings2cosmo_Mamon.u.rad).value\n",
    "seeing_atm = (data['sigma_atm'].values * rings2cosmo_Mamon.u.arcsec).to(rings2cosmo_Mamon.u.rad).value\n",
    "velDisp = data['sigma_ap'].values\n",
    "velDispErr = data['d_sigma_ap'].values\n",
    "\n",
    "#About the parameters value and distribution\n",
    "alpha = 2.0\n",
    "beta = 0.18\n",
    "delta = 2.40\n",
    "\n",
    "gamma = 1.0\n",
    "virial_frac = 0.18\n",
    "vel_vec(z_S, z_L, theta_E, seeing_atm, theta_ap, virial_frac, alpha, delta, gamma)"
   ]
  },
  {
   "cell_type": "code",
   "execution_count": 22,
   "id": "2b15dc9c-a379-4056-ad5d-eb28092bebf5",
   "metadata": {},
   "outputs": [],
   "source": [
    "import timeit"
   ]
  },
  {
   "cell_type": "code",
   "execution_count": 15,
   "id": "3e0a40cb-18e9-4648-971e-04345ee44861",
   "metadata": {
    "tags": []
   },
   "outputs": [
    {
     "name": "stdout",
     "output_type": "stream",
     "text": [
      "CPU times: user 443 ms, sys: 6.7 s, total: 7.14 s\n",
      "Wall time: 17.7 s\n"
     ]
    },
    {
     "data": {
      "text/plain": [
       "array([236.7610242 , 218.81781978, 260.83024563, 226.57127387,\n",
       "       246.77044455, 229.79737049, 202.82600156, 232.15713731,\n",
       "       221.79131035, 264.74057289, 257.38697345, 232.08295603,\n",
       "       231.70975355, 201.38007241, 239.64980257, 205.79078226,\n",
       "       222.25270664, 244.26947296, 261.02674755, 268.95606875,\n",
       "       234.63670033, 250.653489  , 260.86024697, 220.56392201,\n",
       "       259.44365878, 232.79692914, 191.27187191, 198.95469597,\n",
       "       226.24867672, 274.70284373, 222.99096278, 262.0310447 ,\n",
       "       247.66130764, 260.46683494, 284.62915645, 206.19247828,\n",
       "       277.79971678, 234.43677777, 222.83709832, 262.78159409,\n",
       "       197.16111514, 229.68884296, 184.06099419, 230.63530102,\n",
       "       227.10731371, 200.25695034, 290.9798065 , 249.42674103,\n",
       "       195.09464693, 225.80400783, 229.32630317, 196.8061787 ,\n",
       "       282.20042441, 293.9401261 , 230.61129483, 268.5253392 ,\n",
       "       266.33223104, 199.44122656, 259.05797847, 238.49752974,\n",
       "       230.84859774, 260.06264162, 252.65104299, 246.41523222,\n",
       "       194.59901592, 264.81906634, 252.44003877, 255.98337339,\n",
       "       214.55792577, 219.27887548, 304.45837369, 272.50672842,\n",
       "       311.69448117, 265.37355344, 259.45537753, 334.08607224,\n",
       "       255.93712249, 245.34965235, 266.15045173, 269.13430632])"
      ]
     },
     "execution_count": 15,
     "metadata": {},
     "output_type": "execute_result"
    }
   ],
   "source": [
    "%%time\n",
    "\n",
    "virial_frac = 0.18\n",
    "vel_vec(z_S, z_L, theta_E, seeing_atm, theta_ap, virial_frac, alpha, delta, gamma)"
   ]
  },
  {
   "cell_type": "code",
   "execution_count": 16,
   "id": "6dc83521-3b49-4bfc-a4d6-744832c11fa2",
   "metadata": {},
   "outputs": [
    {
     "name": "stdout",
     "output_type": "stream",
     "text": [
      "CPU times: user 454 ms, sys: 6.7 s, total: 7.16 s\n",
      "Wall time: 18.9 s\n"
     ]
    },
    {
     "data": {
      "text/plain": [
       "array([239.19751148, 221.53030959, 263.83190135, 229.704426  ,\n",
       "       250.02745293, 233.072887  , 206.06427572, 235.65897823,\n",
       "       225.57158326, 268.68206592, 261.38300234, 236.07530258,\n",
       "       235.76419592, 205.49629107, 244.0080318 , 210.05381345,\n",
       "       226.60120432, 248.71901151, 265.60960345, 273.69664601,\n",
       "       239.26000316, 255.36897165, 265.71162602, 225.29576961,\n",
       "       264.38432594, 237.62446139, 195.90956375, 203.67239255,\n",
       "       231.1214593 , 279.78267708, 227.89707749, 265.2163903 ,\n",
       "       252.79563167, 265.7073648 , 290.00664518, 209.64622705,\n",
       "       283.55246112, 240.0018439 , 228.42450386, 268.64503689,\n",
       "       202.27275459, 234.7504684 , 187.09179394, 236.79264971,\n",
       "       233.95965542, 204.04707413, 297.56029201, 256.55879077,\n",
       "       198.28952106, 230.106691  , 233.42090397, 203.6858682 ,\n",
       "       287.12033441, 301.79264324, 234.14120426, 275.54669598,\n",
       "       271.39591013, 206.66971465, 267.02462948, 243.35516512,\n",
       "       235.82981182, 264.47253061, 257.05495887, 253.78257611,\n",
       "       202.22511122, 273.24590378, 257.53311675, 264.37097633,\n",
       "       222.5462113 , 227.34970335, 313.46793538, 277.97835664,\n",
       "       321.15657097, 271.64086083, 265.52203902, 339.39923812,\n",
       "       261.17650896, 250.77911317, 272.39632169, 275.75221697])"
      ]
     },
     "execution_count": 16,
     "metadata": {},
     "output_type": "execute_result"
    }
   ],
   "source": [
    "%%time\n",
    "\n",
    "virial_frac = 0.018\n",
    "vel_vec(z_S, z_L, theta_E, seeing_atm, theta_ap, virial_frac, alpha, delta, gamma)"
   ]
  }
 ],
 "metadata": {
  "kernelspec": {
   "display_name": "Python 3 (ipykernel)",
   "language": "python",
   "name": "python3"
  },
  "language_info": {
   "codemirror_mode": {
    "name": "ipython",
    "version": 3
   },
   "file_extension": ".py",
   "mimetype": "text/x-python",
   "name": "python",
   "nbconvert_exporter": "python",
   "pygments_lexer": "ipython3",
   "version": "3.10.3"
  }
 },
 "nbformat": 4,
 "nbformat_minor": 5
}
