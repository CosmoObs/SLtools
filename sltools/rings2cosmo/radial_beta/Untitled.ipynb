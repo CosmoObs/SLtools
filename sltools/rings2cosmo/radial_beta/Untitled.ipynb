{
 "cells": [
  {
   "cell_type": "code",
   "execution_count": 1,
   "id": "181e5dea-14af-404a-8336-cdbf5f8ea6b4",
   "metadata": {},
   "outputs": [],
   "source": [
    "import sys\n",
    "\n",
    "sys.path.append('../')\n",
    "import rings2cosmo\n",
    "import pandas as pd\n",
    "import seaborn as sns\n",
    "import matplotlib.pyplot as plt\n",
    "import numpy as np\n",
    "import scipy as sp\n",
    "\n",
    "from astropy import constants as const\n",
    "from astropy import units as u\n",
    "from astropy.cosmology import FlatLambdaCDM\n",
    "cosmo = FlatLambdaCDM(H0 = 67.3, Om0 = 0.315)"
   ]
  },
  {
   "cell_type": "code",
   "execution_count": 2,
   "id": "d7846c5b-7c23-48fd-beac-989caa887b3a",
   "metadata": {},
   "outputs": [
    {
     "data": {
      "text/html": [
       "<div>\n",
       "<style scoped>\n",
       "    .dataframe tbody tr th:only-of-type {\n",
       "        vertical-align: middle;\n",
       "    }\n",
       "\n",
       "    .dataframe tbody tr th {\n",
       "        vertical-align: top;\n",
       "    }\n",
       "\n",
       "    .dataframe thead th {\n",
       "        text-align: right;\n",
       "    }\n",
       "</style>\n",
       "<table border=\"1\" class=\"dataframe\">\n",
       "  <thead>\n",
       "    <tr style=\"text-align: right;\">\n",
       "      <th></th>\n",
       "      <th>name</th>\n",
       "      <th>zl</th>\n",
       "      <th>zs</th>\n",
       "      <th>sigma_0</th>\n",
       "      <th>dsigma_0</th>\n",
       "      <th>theta_E</th>\n",
       "      <th>theta_ap</th>\n",
       "      <th>sigma_atm</th>\n",
       "      <th>sigma_ap</th>\n",
       "      <th>d_sigma_ap</th>\n",
       "    </tr>\n",
       "  </thead>\n",
       "  <tbody>\n",
       "    <tr>\n",
       "      <th>0</th>\n",
       "      <td>J2321-0939</td>\n",
       "      <td>0.082</td>\n",
       "      <td>0.532</td>\n",
       "      <td>246</td>\n",
       "      <td>8</td>\n",
       "      <td>1.60</td>\n",
       "      <td>1.5</td>\n",
       "      <td>1.4</td>\n",
       "      <td>249</td>\n",
       "      <td>8</td>\n",
       "    </tr>\n",
       "    <tr>\n",
       "      <th>1</th>\n",
       "      <td>J1106+5228</td>\n",
       "      <td>0.096</td>\n",
       "      <td>0.407</td>\n",
       "      <td>268</td>\n",
       "      <td>13</td>\n",
       "      <td>1.23</td>\n",
       "      <td>1.5</td>\n",
       "      <td>1.4</td>\n",
       "      <td>262</td>\n",
       "      <td>13</td>\n",
       "    </tr>\n",
       "    <tr>\n",
       "      <th>2</th>\n",
       "      <td>J1143-0144</td>\n",
       "      <td>0.106</td>\n",
       "      <td>0.402</td>\n",
       "      <td>264</td>\n",
       "      <td>13</td>\n",
       "      <td>1.68</td>\n",
       "      <td>1.5</td>\n",
       "      <td>1.4</td>\n",
       "      <td>269</td>\n",
       "      <td>13</td>\n",
       "    </tr>\n",
       "    <tr>\n",
       "      <th>3</th>\n",
       "      <td>J0841+3824</td>\n",
       "      <td>0.116</td>\n",
       "      <td>0.657</td>\n",
       "      <td>222</td>\n",
       "      <td>11</td>\n",
       "      <td>1.41</td>\n",
       "      <td>1.5</td>\n",
       "      <td>1.4</td>\n",
       "      <td>225</td>\n",
       "      <td>11</td>\n",
       "    </tr>\n",
       "    <tr>\n",
       "      <th>4</th>\n",
       "      <td>J0044+0113</td>\n",
       "      <td>0.120</td>\n",
       "      <td>0.196</td>\n",
       "      <td>267</td>\n",
       "      <td>13</td>\n",
       "      <td>0.79</td>\n",
       "      <td>1.5</td>\n",
       "      <td>1.4</td>\n",
       "      <td>266</td>\n",
       "      <td>13</td>\n",
       "    </tr>\n",
       "  </tbody>\n",
       "</table>\n",
       "</div>"
      ],
      "text/plain": [
       "         name     zl     zs  sigma_0  dsigma_0  theta_E  theta_ap  sigma_atm  \\\n",
       "0  J2321-0939  0.082  0.532      246         8     1.60       1.5        1.4   \n",
       "1  J1106+5228  0.096  0.407      268        13     1.23       1.5        1.4   \n",
       "2  J1143-0144  0.106  0.402      264        13     1.68       1.5        1.4   \n",
       "3  J0841+3824  0.116  0.657      222        11     1.41       1.5        1.4   \n",
       "4  J0044+0113  0.120  0.196      267        13     0.79       1.5        1.4   \n",
       "\n",
       "   sigma_ap  d_sigma_ap  \n",
       "0       249           8  \n",
       "1       262          13  \n",
       "2       269          13  \n",
       "3       225          11  \n",
       "4       266          13  "
      ]
     },
     "execution_count": 2,
     "metadata": {},
     "output_type": "execute_result"
    }
   ],
   "source": [
    "data = pd.read_csv('../Data/sample80.csv')\n",
    "data.head()"
   ]
  },
  {
   "cell_type": "code",
   "execution_count": 3,
   "id": "f379b707-0f94-489f-b64e-57c14b2b2610",
   "metadata": {},
   "outputs": [],
   "source": [
    "z_L = data['zl'].values\n",
    "z_S = data['zs'].values\n",
    "theta_E = (data['theta_E'].values * rings2cosmo.u.arcsec).to(rings2cosmo.u.rad).value\n",
    "theta_ap = (data['theta_ap'].values * rings2cosmo.u.arcsec).to(rings2cosmo.u.rad).value\n",
    "seeing_atm = (data['sigma_atm'].values * rings2cosmo.u.arcsec).to(rings2cosmo.u.rad).value\n",
    "velDisp = data['sigma_ap'].values\n",
    "velDispErr = data['d_sigma_ap'].values\n",
    "\n",
    "#About the parameters value and distribution\n",
    "alpha = 2.0\n",
    "virial_frac = 0.18\n",
    "delta = 2.40\n",
    "\n",
    "gamma = 1.0"
   ]
  },
  {
   "cell_type": "code",
   "execution_count": 4,
   "id": "36ef5eba-1a99-4c6f-a702-b1545dc196a9",
   "metadata": {
    "tags": []
   },
   "outputs": [
    {
     "data": {
      "text/plain": [
       "array([236.71544946, 218.76848464, 260.76565328, 226.51047603,\n",
       "       246.70180934, 229.73207757, 202.76698918, 232.08536596,\n",
       "       221.71292203, 264.6461934 , 257.29216411, 231.99654056,\n",
       "       231.62014748, 201.29917636, 239.55012949, 205.7017671 ,\n",
       "       222.15673205, 244.16437062, 260.91121522, 268.83084674,\n",
       "       234.52822299, 250.53535674, 260.73320935, 220.45928467,\n",
       "       259.31441133, 232.68011623, 191.17686779, 198.85609537,\n",
       "       226.13357159, 274.56146573, 222.87691698, 261.89928262,\n",
       "       247.52799969, 260.32462413, 284.47461404, 206.08492581,\n",
       "       277.62668342, 234.29235751, 222.69249277, 262.6128441 ,\n",
       "       197.03452908, 229.55341586, 183.95604284, 230.46958202,\n",
       "       226.94297782, 200.13029665, 290.75921745, 249.24124341,\n",
       "       194.97687827, 225.6282764 , 229.16612167, 196.64711885,\n",
       "       281.99902867, 293.70122706, 230.45117038, 268.29647562,\n",
       "       266.11017935, 199.26550516, 258.82208344, 238.31516682,\n",
       "       230.676984  , 259.81899342, 252.41857634, 246.17019658,\n",
       "       194.41426948, 264.56342633, 252.23275102, 255.73473342,\n",
       "       214.3426204 , 219.0647542 , 304.14235287, 272.23087366,\n",
       "       311.34419615, 265.09355208, 259.14685547, 333.75788516,\n",
       "       255.66362398, 245.0812403 , 265.86780148, 268.8129617 ])"
      ]
     },
     "execution_count": 4,
     "metadata": {},
     "output_type": "execute_result"
    }
   ],
   "source": [
    "rings2cosmo.vel(z_S, z_L, theta_E, seeing_atm, theta_ap,virial_frac, alpha,delta, gamma)"
   ]
  },
  {
   "cell_type": "code",
   "execution_count": 5,
   "id": "4ded609f-85bd-4410-afa1-5aebd9a8faa7",
   "metadata": {},
   "outputs": [],
   "source": [
    "import time"
   ]
  },
  {
   "cell_type": "code",
   "execution_count": 6,
   "id": "347f05af-fed2-4b6d-a0b5-569da9fadad5",
   "metadata": {
    "collapsed": true,
    "jupyter": {
     "outputs_hidden": true
    },
    "tags": []
   },
   "outputs": [
    {
     "data": {
      "text/plain": [
       "[13.540763139724731,\n",
       " 12.860260486602783,\n",
       " 12.952581882476807,\n",
       " 12.914179801940918,\n",
       " 12.888692140579224,\n",
       " 12.781155586242676,\n",
       " 13.515015602111816,\n",
       " 12.773908376693726,\n",
       " 11.883323669433594,\n",
       " 10.954133749008179,\n",
       " 12.650876522064209,\n",
       " 12.931627035140991,\n",
       " 12.83256983757019,\n",
       " 12.88624620437622,\n",
       " 12.841023445129395,\n",
       " 12.751203536987305,\n",
       " 12.8177809715271,\n",
       " 12.693182468414307,\n",
       " 12.82729458808899,\n",
       " 12.728612899780273,\n",
       " 12.672913551330566,\n",
       " 12.60686206817627,\n",
       " 12.842837572097778,\n",
       " 12.680924415588379,\n",
       " 12.74649715423584,\n",
       " 12.593085765838623,\n",
       " 12.67014741897583,\n",
       " 12.638495683670044,\n",
       " 12.727605104446411,\n",
       " 12.753711462020874,\n",
       " 12.807881832122803,\n",
       " 12.834537506103516,\n",
       " 12.767249584197998,\n",
       " 12.69358777999878,\n",
       " 12.695103645324707,\n",
       " 12.729229211807251,\n",
       " 17.24817657470703,\n",
       " 12.28049612045288,\n",
       " 12.82335877418518,\n",
       " 12.80330777168274,\n",
       " 12.909472703933716,\n",
       " 12.843317747116089,\n",
       " 12.766005992889404,\n",
       " 12.856091260910034,\n",
       " 12.741662740707397,\n",
       " 12.921417713165283,\n",
       " 12.146953344345093,\n",
       " 15.048906087875366,\n",
       " 13.168984651565552,\n",
       " 12.74010705947876,\n",
       " 12.764400959014893,\n",
       " 12.759615421295166,\n",
       " 12.622801542282104,\n",
       " 12.638990640640259,\n",
       " 12.72929048538208,\n",
       " 12.588429927825928,\n",
       " 12.631256818771362,\n",
       " 12.455456972122192,\n",
       " 12.717203378677368,\n",
       " 12.680388450622559,\n",
       " 12.838038206100464,\n",
       " 12.845373630523682,\n",
       " 12.71197772026062,\n",
       " 12.877339124679565,\n",
       " 12.721164226531982,\n",
       " 12.776317596435547,\n",
       " 12.782640933990479,\n",
       " 12.629371881484985,\n",
       " 12.797512531280518,\n",
       " 14.119640827178955,\n",
       " 12.9120774269104,\n",
       " 12.86555790901184,\n",
       " 14.503995418548584,\n",
       " 15.135820627212524,\n",
       " 12.809908866882324,\n",
       " 12.781185626983643,\n",
       " 12.826380968093872,\n",
       " 12.668660879135132,\n",
       " 12.782108545303345,\n",
       " 12.669875383377075,\n",
       " 12.161556482315063,\n",
       " 12.702344179153442,\n",
       " 12.741206645965576,\n",
       " 12.447100400924683,\n",
       " 12.554946422576904,\n",
       " 12.575326204299927,\n",
       " 12.631255626678467,\n",
       " 13.927990913391113,\n",
       " 17.542757034301758,\n",
       " 15.053575038909912,\n",
       " 13.359083414077759,\n",
       " 10.391852855682373,\n",
       " 13.214568614959717,\n",
       " 13.247854232788086,\n",
       " 13.053870439529419,\n",
       " 13.088985681533813,\n",
       " 13.127559423446655,\n",
       " 12.908081531524658,\n",
       " 13.15583086013794,\n",
       " 12.834825038909912]"
      ]
     },
     "execution_count": 6,
     "metadata": {},
     "output_type": "execute_result"
    }
   ],
   "source": [
    "execution = []\n",
    "for i in range(100):\n",
    "    start_time = time.time()\n",
    "    e = rings2cosmo.vel(z_S, z_L, theta_E, seeing_atm, theta_ap,virial_frac, alpha,delta, gamma)\n",
    "    execution.append((time.time() - start_time))\n",
    "\n",
    "execution"
   ]
  },
  {
   "cell_type": "code",
   "execution_count": 7,
   "id": "6ddad00e-8d5c-494e-9b10-fa4aa6f6bd17",
   "metadata": {},
   "outputs": [
    {
     "data": {
      "text/plain": [
       "(array([ 2.,  0.,  6., 81.,  4.,  2.,  3.,  0.,  0.,  2.]),\n",
       " array([10.39185286, 11.10694327, 11.82203369, 12.53712411, 13.25221453,\n",
       "        13.96730494, 14.68239536, 15.39748578, 16.1125762 , 16.82766662,\n",
       "        17.54275703]),\n",
       " <BarContainer object of 10 artists>)"
      ]
     },
     "execution_count": 7,
     "metadata": {},
     "output_type": "execute_result"
    },
    {
     "data": {
      "image/png": "[encoded data removed]",
      "text/plain": [
       "<Figure size 432x288 with 1 Axes>"
      ]
     },
     "metadata": {
      "needs_background": "light"
     },
     "output_type": "display_data"
    }
   ],
   "source": [
    "plt.hist(execution)"
   ]
  },
  {
   "cell_type": "code",
   "execution_count": 9,
   "id": "9d5c51ff-46d0-4739-95d4-2dc707e5ecd1",
   "metadata": {},
   "outputs": [
    {
     "data": {
      "text/plain": [
       "12.78117060661316"
      ]
     },
     "execution_count": 9,
     "metadata": {},
     "output_type": "execute_result"
    }
   ],
   "source": [
    "np.median(execution)"
   ]
  },
  {
   "cell_type": "markdown",
   "id": "f1aac98b-dd8b-4cde-95c8-6d797847d272",
   "metadata": {},
   "source": [
    "log probabilities"
   ]
  },
  {
   "cell_type": "code",
   "execution_count": 10,
   "id": "db26abdb-1244-4b5e-bcf2-b245b8e70a36",
   "metadata": {
    "collapsed": true,
    "jupyter": {
     "outputs_hidden": true
    },
    "tags": []
   },
   "outputs": [
    {
     "ename": "KeyboardInterrupt",
     "evalue": "",
     "output_type": "error",
     "traceback": [
      "\u001b[0;31m---------------------------------------------------------------------------\u001b[0m",
      "\u001b[0;31mKeyboardInterrupt\u001b[0m                         Traceback (most recent call last)",
      "Input \u001b[0;32mIn [10]\u001b[0m, in \u001b[0;36m<cell line: 1>\u001b[0;34m()\u001b[0m\n\u001b[0;32m----> 1\u001b[0m \u001b[43mrings2cosmo\u001b[49m\u001b[38;5;241;43m.\u001b[39;49m\u001b[43mminimization_loglikelihood\u001b[49m\u001b[43m(\u001b[49m\u001b[43mz_S\u001b[49m\u001b[43m,\u001b[49m\u001b[43m \u001b[49m\u001b[43mz_L\u001b[49m\u001b[43m,\u001b[49m\u001b[43m \u001b[49m\u001b[43mvelDisp\u001b[49m\u001b[43m,\u001b[49m\u001b[43m \u001b[49m\u001b[43mvelDispErr\u001b[49m\u001b[43m,\u001b[49m\u001b[43m \u001b[49m\u001b[43mtheta_E\u001b[49m\u001b[43m,\u001b[49m\u001b[43m \u001b[49m\u001b[43mseeing_atm\u001b[49m\u001b[43m,\u001b[49m\u001b[43m \u001b[49m\u001b[43mtheta_ap\u001b[49m\u001b[43m,\u001b[49m\u001b[43m \u001b[49m\u001b[43mvirial_frac\u001b[49m\u001b[43m)\u001b[49m\n",
      "File \u001b[0;32m~/Master_codes/Velocity_dispersion2022/2-mamon_beta/10_25-pyobject/rings2cosmo.py:233\u001b[0m, in \u001b[0;36mminimization_loglikelihood\u001b[0;34m(z_S, z_L, velDisp, velDispErr, theta_E, seeing_atm, theta_ap, virial_frac, seed, alpha_ini, delta_ini, gamma_ini)\u001b[0m\n\u001b[1;32m    228\u001b[0m nll \u001b[38;5;241m=\u001b[39m \u001b[38;5;28;01mlambda\u001b[39;00m \u001b[38;5;241m*\u001b[39margs: \u001b[38;5;241m-\u001b[39m log_likelihood(\u001b[38;5;241m*\u001b[39margs)\n\u001b[1;32m    230\u001b[0m initial \u001b[38;5;241m=\u001b[39m np\u001b[38;5;241m.\u001b[39marray([alpha_ini,delta_ini, gamma_ini]) \u001b[38;5;241m+\u001b[39m \\\n\u001b[1;32m    231\u001b[0m     \u001b[38;5;241m1e-5\u001b[39m \u001b[38;5;241m*\u001b[39m np\u001b[38;5;241m.\u001b[39mrandom\u001b[38;5;241m.\u001b[39mrandn(\u001b[38;5;241m3\u001b[39m)\n\u001b[0;32m--> 233\u001b[0m soln \u001b[38;5;241m=\u001b[39m \u001b[43mminimize\u001b[49m\u001b[43m(\u001b[49m\u001b[43mnll\u001b[49m\u001b[43m,\u001b[49m\u001b[43m \u001b[49m\u001b[43minitial\u001b[49m\u001b[43m,\u001b[49m\u001b[43m \u001b[49m\u001b[43margs\u001b[49m\u001b[38;5;241;43m=\u001b[39;49m\u001b[43m(\u001b[49m\u001b[43mz_S\u001b[49m\u001b[43m,\u001b[49m\u001b[43m \u001b[49m\u001b[43mz_L\u001b[49m\u001b[43m,\u001b[49m\u001b[43m \u001b[49m\u001b[43mvelDisp\u001b[49m\u001b[43m,\u001b[49m\n\u001b[1;32m    234\u001b[0m \u001b[43m                \u001b[49m\u001b[43mvelDispErr\u001b[49m\u001b[43m,\u001b[49m\u001b[43m \u001b[49m\u001b[43mtheta_E\u001b[49m\u001b[43m,\u001b[49m\u001b[43m \u001b[49m\u001b[43mseeing_atm\u001b[49m\u001b[43m,\u001b[49m\u001b[43m \u001b[49m\u001b[43mtheta_ap\u001b[49m\u001b[43m,\u001b[49m\u001b[43m \u001b[49m\u001b[43mvirial_frac\u001b[49m\u001b[43m)\u001b[49m\u001b[43m)\u001b[49m  \u001b[38;5;66;03m# , method='Nelder-Mead', tol=1e-10)\u001b[39;00m\n\u001b[1;32m    236\u001b[0m alpha_ml, delta_ml, gamma_ml \u001b[38;5;241m=\u001b[39m soln\u001b[38;5;241m.\u001b[39mx\n\u001b[1;32m    237\u001b[0m \u001b[38;5;28;01mreturn\u001b[39;00m alpha_ml, delta_ml, gamma_ml\n",
      "File \u001b[0;32m~/anaconda3/envs/Velocity_dispersion2022/lib/python3.10/site-packages/scipy/optimize/_minimize.py:618\u001b[0m, in \u001b[0;36mminimize\u001b[0;34m(fun, x0, args, method, jac, hess, hessp, bounds, constraints, tol, callback, options)\u001b[0m\n\u001b[1;32m    616\u001b[0m     \u001b[38;5;28;01mreturn\u001b[39;00m _minimize_cg(fun, x0, args, jac, callback, \u001b[38;5;241m*\u001b[39m\u001b[38;5;241m*\u001b[39moptions)\n\u001b[1;32m    617\u001b[0m \u001b[38;5;28;01melif\u001b[39;00m meth \u001b[38;5;241m==\u001b[39m \u001b[38;5;124m'\u001b[39m\u001b[38;5;124mbfgs\u001b[39m\u001b[38;5;124m'\u001b[39m:\n\u001b[0;32m--> 618\u001b[0m     \u001b[38;5;28;01mreturn\u001b[39;00m \u001b[43m_minimize_bfgs\u001b[49m\u001b[43m(\u001b[49m\u001b[43mfun\u001b[49m\u001b[43m,\u001b[49m\u001b[43m \u001b[49m\u001b[43mx0\u001b[49m\u001b[43m,\u001b[49m\u001b[43m \u001b[49m\u001b[43margs\u001b[49m\u001b[43m,\u001b[49m\u001b[43m \u001b[49m\u001b[43mjac\u001b[49m\u001b[43m,\u001b[49m\u001b[43m \u001b[49m\u001b[43mcallback\u001b[49m\u001b[43m,\u001b[49m\u001b[43m \u001b[49m\u001b[38;5;241;43m*\u001b[39;49m\u001b[38;5;241;43m*\u001b[39;49m\u001b[43moptions\u001b[49m\u001b[43m)\u001b[49m\n\u001b[1;32m    619\u001b[0m \u001b[38;5;28;01melif\u001b[39;00m meth \u001b[38;5;241m==\u001b[39m \u001b[38;5;124m'\u001b[39m\u001b[38;5;124mnewton-cg\u001b[39m\u001b[38;5;124m'\u001b[39m:\n\u001b[1;32m    620\u001b[0m     \u001b[38;5;28;01mreturn\u001b[39;00m _minimize_newtoncg(fun, x0, args, jac, hess, hessp, callback,\n\u001b[1;32m    621\u001b[0m                               \u001b[38;5;241m*\u001b[39m\u001b[38;5;241m*\u001b[39moptions)\n",
      "File \u001b[0;32m~/anaconda3/envs/Velocity_dispersion2022/lib/python3.10/site-packages/scipy/optimize/optimize.py:1235\u001b[0m, in \u001b[0;36m_minimize_bfgs\u001b[0;34m(fun, x0, args, jac, callback, gtol, norm, eps, maxiter, disp, return_all, finite_diff_rel_step, **unknown_options)\u001b[0m\n\u001b[1;32m   1232\u001b[0m pk \u001b[38;5;241m=\u001b[39m \u001b[38;5;241m-\u001b[39mnp\u001b[38;5;241m.\u001b[39mdot(Hk, gfk)\n\u001b[1;32m   1233\u001b[0m \u001b[38;5;28;01mtry\u001b[39;00m:\n\u001b[1;32m   1234\u001b[0m     alpha_k, fc, gc, old_fval, old_old_fval, gfkp1 \u001b[38;5;241m=\u001b[39m \\\n\u001b[0;32m-> 1235\u001b[0m              \u001b[43m_line_search_wolfe12\u001b[49m\u001b[43m(\u001b[49m\u001b[43mf\u001b[49m\u001b[43m,\u001b[49m\u001b[43m \u001b[49m\u001b[43mmyfprime\u001b[49m\u001b[43m,\u001b[49m\u001b[43m \u001b[49m\u001b[43mxk\u001b[49m\u001b[43m,\u001b[49m\u001b[43m \u001b[49m\u001b[43mpk\u001b[49m\u001b[43m,\u001b[49m\u001b[43m \u001b[49m\u001b[43mgfk\u001b[49m\u001b[43m,\u001b[49m\n\u001b[1;32m   1236\u001b[0m \u001b[43m                                  \u001b[49m\u001b[43mold_fval\u001b[49m\u001b[43m,\u001b[49m\u001b[43m \u001b[49m\u001b[43mold_old_fval\u001b[49m\u001b[43m,\u001b[49m\u001b[43m \u001b[49m\u001b[43mamin\u001b[49m\u001b[38;5;241;43m=\u001b[39;49m\u001b[38;5;241;43m1e-100\u001b[39;49m\u001b[43m,\u001b[49m\u001b[43m \u001b[49m\u001b[43mamax\u001b[49m\u001b[38;5;241;43m=\u001b[39;49m\u001b[38;5;241;43m1e100\u001b[39;49m\u001b[43m)\u001b[49m\n\u001b[1;32m   1237\u001b[0m \u001b[38;5;28;01mexcept\u001b[39;00m _LineSearchError:\n\u001b[1;32m   1238\u001b[0m     \u001b[38;5;66;03m# Line search failed to find a better solution.\u001b[39;00m\n\u001b[1;32m   1239\u001b[0m     warnflag \u001b[38;5;241m=\u001b[39m \u001b[38;5;241m2\u001b[39m\n",
      "File \u001b[0;32m~/anaconda3/envs/Velocity_dispersion2022/lib/python3.10/site-packages/scipy/optimize/optimize.py:1005\u001b[0m, in \u001b[0;36m_line_search_wolfe12\u001b[0;34m(f, fprime, xk, pk, gfk, old_fval, old_old_fval, **kwargs)\u001b[0m\n\u001b[1;32m    991\u001b[0m \u001b[38;5;124;03m\"\"\"\u001b[39;00m\n\u001b[1;32m    992\u001b[0m \u001b[38;5;124;03mSame as line_search_wolfe1, but fall back to line_search_wolfe2 if\u001b[39;00m\n\u001b[1;32m    993\u001b[0m \u001b[38;5;124;03msuitable step length is not found, and raise an exception if a\u001b[39;00m\n\u001b[0;32m   (...)\u001b[0m\n\u001b[1;32m   1000\u001b[0m \n\u001b[1;32m   1001\u001b[0m \u001b[38;5;124;03m\"\"\"\u001b[39;00m\n\u001b[1;32m   1003\u001b[0m extra_condition \u001b[38;5;241m=\u001b[39m kwargs\u001b[38;5;241m.\u001b[39mpop(\u001b[38;5;124m'\u001b[39m\u001b[38;5;124mextra_condition\u001b[39m\u001b[38;5;124m'\u001b[39m, \u001b[38;5;28;01mNone\u001b[39;00m)\n\u001b[0;32m-> 1005\u001b[0m ret \u001b[38;5;241m=\u001b[39m \u001b[43mline_search_wolfe1\u001b[49m\u001b[43m(\u001b[49m\u001b[43mf\u001b[49m\u001b[43m,\u001b[49m\u001b[43m \u001b[49m\u001b[43mfprime\u001b[49m\u001b[43m,\u001b[49m\u001b[43m \u001b[49m\u001b[43mxk\u001b[49m\u001b[43m,\u001b[49m\u001b[43m \u001b[49m\u001b[43mpk\u001b[49m\u001b[43m,\u001b[49m\u001b[43m \u001b[49m\u001b[43mgfk\u001b[49m\u001b[43m,\u001b[49m\n\u001b[1;32m   1006\u001b[0m \u001b[43m                         \u001b[49m\u001b[43mold_fval\u001b[49m\u001b[43m,\u001b[49m\u001b[43m \u001b[49m\u001b[43mold_old_fval\u001b[49m\u001b[43m,\u001b[49m\n\u001b[1;32m   1007\u001b[0m \u001b[43m                         \u001b[49m\u001b[38;5;241;43m*\u001b[39;49m\u001b[38;5;241;43m*\u001b[39;49m\u001b[43mkwargs\u001b[49m\u001b[43m)\u001b[49m\n\u001b[1;32m   1009\u001b[0m \u001b[38;5;28;01mif\u001b[39;00m ret[\u001b[38;5;241m0\u001b[39m] \u001b[38;5;129;01mis\u001b[39;00m \u001b[38;5;129;01mnot\u001b[39;00m \u001b[38;5;28;01mNone\u001b[39;00m \u001b[38;5;129;01mand\u001b[39;00m extra_condition \u001b[38;5;129;01mis\u001b[39;00m \u001b[38;5;129;01mnot\u001b[39;00m \u001b[38;5;28;01mNone\u001b[39;00m:\n\u001b[1;32m   1010\u001b[0m     xp1 \u001b[38;5;241m=\u001b[39m xk \u001b[38;5;241m+\u001b[39m ret[\u001b[38;5;241m0\u001b[39m] \u001b[38;5;241m*\u001b[39m pk\n",
      "File \u001b[0;32m~/anaconda3/envs/Velocity_dispersion2022/lib/python3.10/site-packages/scipy/optimize/linesearch.py:96\u001b[0m, in \u001b[0;36mline_search_wolfe1\u001b[0;34m(f, fprime, xk, pk, gfk, old_fval, old_old_fval, args, c1, c2, amax, amin, xtol)\u001b[0m\n\u001b[1;32m     92\u001b[0m     \u001b[38;5;28;01mreturn\u001b[39;00m np\u001b[38;5;241m.\u001b[39mdot(gval[\u001b[38;5;241m0\u001b[39m], pk)\n\u001b[1;32m     94\u001b[0m derphi0 \u001b[38;5;241m=\u001b[39m np\u001b[38;5;241m.\u001b[39mdot(gfk, pk)\n\u001b[0;32m---> 96\u001b[0m stp, fval, old_fval \u001b[38;5;241m=\u001b[39m \u001b[43mscalar_search_wolfe1\u001b[49m\u001b[43m(\u001b[49m\n\u001b[1;32m     97\u001b[0m \u001b[43m        \u001b[49m\u001b[43mphi\u001b[49m\u001b[43m,\u001b[49m\u001b[43m \u001b[49m\u001b[43mderphi\u001b[49m\u001b[43m,\u001b[49m\u001b[43m \u001b[49m\u001b[43mold_fval\u001b[49m\u001b[43m,\u001b[49m\u001b[43m \u001b[49m\u001b[43mold_old_fval\u001b[49m\u001b[43m,\u001b[49m\u001b[43m \u001b[49m\u001b[43mderphi0\u001b[49m\u001b[43m,\u001b[49m\n\u001b[1;32m     98\u001b[0m \u001b[43m        \u001b[49m\u001b[43mc1\u001b[49m\u001b[38;5;241;43m=\u001b[39;49m\u001b[43mc1\u001b[49m\u001b[43m,\u001b[49m\u001b[43m \u001b[49m\u001b[43mc2\u001b[49m\u001b[38;5;241;43m=\u001b[39;49m\u001b[43mc2\u001b[49m\u001b[43m,\u001b[49m\u001b[43m \u001b[49m\u001b[43mamax\u001b[49m\u001b[38;5;241;43m=\u001b[39;49m\u001b[43mamax\u001b[49m\u001b[43m,\u001b[49m\u001b[43m \u001b[49m\u001b[43mamin\u001b[49m\u001b[38;5;241;43m=\u001b[39;49m\u001b[43mamin\u001b[49m\u001b[43m,\u001b[49m\u001b[43m \u001b[49m\u001b[43mxtol\u001b[49m\u001b[38;5;241;43m=\u001b[39;49m\u001b[43mxtol\u001b[49m\u001b[43m)\u001b[49m\n\u001b[1;32m    100\u001b[0m \u001b[38;5;28;01mreturn\u001b[39;00m stp, fc[\u001b[38;5;241m0\u001b[39m], gc[\u001b[38;5;241m0\u001b[39m], fval, old_fval, gval[\u001b[38;5;241m0\u001b[39m]\n",
      "File \u001b[0;32m~/anaconda3/envs/Velocity_dispersion2022/lib/python3.10/site-packages/scipy/optimize/linesearch.py:172\u001b[0m, in \u001b[0;36mscalar_search_wolfe1\u001b[0;34m(phi, derphi, phi0, old_phi0, derphi0, c1, c2, amax, amin, xtol)\u001b[0m\n\u001b[1;32m    170\u001b[0m \u001b[38;5;28;01mif\u001b[39;00m task[:\u001b[38;5;241m2\u001b[39m] \u001b[38;5;241m==\u001b[39m \u001b[38;5;124mb\u001b[39m\u001b[38;5;124m'\u001b[39m\u001b[38;5;124mFG\u001b[39m\u001b[38;5;124m'\u001b[39m:\n\u001b[1;32m    171\u001b[0m     alpha1 \u001b[38;5;241m=\u001b[39m stp\n\u001b[0;32m--> 172\u001b[0m     phi1 \u001b[38;5;241m=\u001b[39m \u001b[43mphi\u001b[49m\u001b[43m(\u001b[49m\u001b[43mstp\u001b[49m\u001b[43m)\u001b[49m\n\u001b[1;32m    173\u001b[0m     derphi1 \u001b[38;5;241m=\u001b[39m derphi(stp)\n\u001b[1;32m    174\u001b[0m \u001b[38;5;28;01melse\u001b[39;00m:\n",
      "File \u001b[0;32m~/anaconda3/envs/Velocity_dispersion2022/lib/python3.10/site-packages/scipy/optimize/linesearch.py:84\u001b[0m, in \u001b[0;36mline_search_wolfe1.<locals>.phi\u001b[0;34m(s)\u001b[0m\n\u001b[1;32m     82\u001b[0m \u001b[38;5;28;01mdef\u001b[39;00m \u001b[38;5;21mphi\u001b[39m(s):\n\u001b[1;32m     83\u001b[0m     fc[\u001b[38;5;241m0\u001b[39m] \u001b[38;5;241m+\u001b[39m\u001b[38;5;241m=\u001b[39m \u001b[38;5;241m1\u001b[39m\n\u001b[0;32m---> 84\u001b[0m     \u001b[38;5;28;01mreturn\u001b[39;00m \u001b[43mf\u001b[49m\u001b[43m(\u001b[49m\u001b[43mxk\u001b[49m\u001b[43m \u001b[49m\u001b[38;5;241;43m+\u001b[39;49m\u001b[43m \u001b[49m\u001b[43ms\u001b[49m\u001b[38;5;241;43m*\u001b[39;49m\u001b[43mpk\u001b[49m\u001b[43m,\u001b[49m\u001b[43m \u001b[49m\u001b[38;5;241;43m*\u001b[39;49m\u001b[43margs\u001b[49m\u001b[43m)\u001b[49m\n",
      "File \u001b[0;32m~/anaconda3/envs/Velocity_dispersion2022/lib/python3.10/site-packages/scipy/optimize/_differentiable_functions.py:249\u001b[0m, in \u001b[0;36mScalarFunction.fun\u001b[0;34m(self, x)\u001b[0m\n\u001b[1;32m    247\u001b[0m \u001b[38;5;28;01mif\u001b[39;00m \u001b[38;5;129;01mnot\u001b[39;00m np\u001b[38;5;241m.\u001b[39marray_equal(x, \u001b[38;5;28mself\u001b[39m\u001b[38;5;241m.\u001b[39mx):\n\u001b[1;32m    248\u001b[0m     \u001b[38;5;28mself\u001b[39m\u001b[38;5;241m.\u001b[39m_update_x_impl(x)\n\u001b[0;32m--> 249\u001b[0m \u001b[38;5;28;43mself\u001b[39;49m\u001b[38;5;241;43m.\u001b[39;49m\u001b[43m_update_fun\u001b[49m\u001b[43m(\u001b[49m\u001b[43m)\u001b[49m\n\u001b[1;32m    250\u001b[0m \u001b[38;5;28;01mreturn\u001b[39;00m \u001b[38;5;28mself\u001b[39m\u001b[38;5;241m.\u001b[39mf\n",
      "File \u001b[0;32m~/anaconda3/envs/Velocity_dispersion2022/lib/python3.10/site-packages/scipy/optimize/_differentiable_functions.py:233\u001b[0m, in \u001b[0;36mScalarFunction._update_fun\u001b[0;34m(self)\u001b[0m\n\u001b[1;32m    231\u001b[0m \u001b[38;5;28;01mdef\u001b[39;00m \u001b[38;5;21m_update_fun\u001b[39m(\u001b[38;5;28mself\u001b[39m):\n\u001b[1;32m    232\u001b[0m     \u001b[38;5;28;01mif\u001b[39;00m \u001b[38;5;129;01mnot\u001b[39;00m \u001b[38;5;28mself\u001b[39m\u001b[38;5;241m.\u001b[39mf_updated:\n\u001b[0;32m--> 233\u001b[0m         \u001b[38;5;28;43mself\u001b[39;49m\u001b[38;5;241;43m.\u001b[39;49m\u001b[43m_update_fun_impl\u001b[49m\u001b[43m(\u001b[49m\u001b[43m)\u001b[49m\n\u001b[1;32m    234\u001b[0m         \u001b[38;5;28mself\u001b[39m\u001b[38;5;241m.\u001b[39mf_updated \u001b[38;5;241m=\u001b[39m \u001b[38;5;28;01mTrue\u001b[39;00m\n",
      "File \u001b[0;32m~/anaconda3/envs/Velocity_dispersion2022/lib/python3.10/site-packages/scipy/optimize/_differentiable_functions.py:137\u001b[0m, in \u001b[0;36mScalarFunction.__init__.<locals>.update_fun\u001b[0;34m()\u001b[0m\n\u001b[1;32m    136\u001b[0m \u001b[38;5;28;01mdef\u001b[39;00m \u001b[38;5;21mupdate_fun\u001b[39m():\n\u001b[0;32m--> 137\u001b[0m     \u001b[38;5;28mself\u001b[39m\u001b[38;5;241m.\u001b[39mf \u001b[38;5;241m=\u001b[39m \u001b[43mfun_wrapped\u001b[49m\u001b[43m(\u001b[49m\u001b[38;5;28;43mself\u001b[39;49m\u001b[38;5;241;43m.\u001b[39;49m\u001b[43mx\u001b[49m\u001b[43m)\u001b[49m\n",
      "File \u001b[0;32m~/anaconda3/envs/Velocity_dispersion2022/lib/python3.10/site-packages/scipy/optimize/_differentiable_functions.py:134\u001b[0m, in \u001b[0;36mScalarFunction.__init__.<locals>.fun_wrapped\u001b[0;34m(x)\u001b[0m\n\u001b[1;32m    130\u001b[0m \u001b[38;5;28mself\u001b[39m\u001b[38;5;241m.\u001b[39mnfev \u001b[38;5;241m+\u001b[39m\u001b[38;5;241m=\u001b[39m \u001b[38;5;241m1\u001b[39m\n\u001b[1;32m    131\u001b[0m \u001b[38;5;66;03m# Send a copy because the user may overwrite it.\u001b[39;00m\n\u001b[1;32m    132\u001b[0m \u001b[38;5;66;03m# Overwriting results in undefined behaviour because\u001b[39;00m\n\u001b[1;32m    133\u001b[0m \u001b[38;5;66;03m# fun(self.x) will change self.x, with the two no longer linked.\u001b[39;00m\n\u001b[0;32m--> 134\u001b[0m \u001b[38;5;28;01mreturn\u001b[39;00m \u001b[43mfun\u001b[49m\u001b[43m(\u001b[49m\u001b[43mnp\u001b[49m\u001b[38;5;241;43m.\u001b[39;49m\u001b[43mcopy\u001b[49m\u001b[43m(\u001b[49m\u001b[43mx\u001b[49m\u001b[43m)\u001b[49m\u001b[43m,\u001b[49m\u001b[43m \u001b[49m\u001b[38;5;241;43m*\u001b[39;49m\u001b[43margs\u001b[49m\u001b[43m)\u001b[49m\n",
      "File \u001b[0;32m~/Master_codes/Velocity_dispersion2022/2-mamon_beta/10_25-pyobject/rings2cosmo.py:228\u001b[0m, in \u001b[0;36mminimization_loglikelihood.<locals>.<lambda>\u001b[0;34m(*args)\u001b[0m\n\u001b[1;32m    209\u001b[0m \u001b[38;5;124;03m\"\"\"Maximization of Likehood function\u001b[39;00m\n\u001b[1;32m    210\u001b[0m \n\u001b[1;32m    211\u001b[0m \u001b[38;5;124;03mArgs:\u001b[39;00m\n\u001b[0;32m   (...)\u001b[0m\n\u001b[1;32m    225\u001b[0m \u001b[38;5;124;03m    list: list of alpha, delta, and gamma obtained from minimization of likelihood function.\u001b[39;00m\n\u001b[1;32m    226\u001b[0m \u001b[38;5;124;03m\"\"\"\u001b[39;00m\n\u001b[1;32m    227\u001b[0m np\u001b[38;5;241m.\u001b[39mrandom\u001b[38;5;241m.\u001b[39mseed(seed)\n\u001b[0;32m--> 228\u001b[0m nll \u001b[38;5;241m=\u001b[39m \u001b[38;5;28;01mlambda\u001b[39;00m \u001b[38;5;241m*\u001b[39margs: \u001b[38;5;241m-\u001b[39m \u001b[43mlog_likelihood\u001b[49m\u001b[43m(\u001b[49m\u001b[38;5;241;43m*\u001b[39;49m\u001b[43margs\u001b[49m\u001b[43m)\u001b[49m\n\u001b[1;32m    230\u001b[0m initial \u001b[38;5;241m=\u001b[39m np\u001b[38;5;241m.\u001b[39marray([alpha_ini,delta_ini, gamma_ini]) \u001b[38;5;241m+\u001b[39m \\\n\u001b[1;32m    231\u001b[0m     \u001b[38;5;241m1e-5\u001b[39m \u001b[38;5;241m*\u001b[39m np\u001b[38;5;241m.\u001b[39mrandom\u001b[38;5;241m.\u001b[39mrandn(\u001b[38;5;241m3\u001b[39m)\n\u001b[1;32m    233\u001b[0m soln \u001b[38;5;241m=\u001b[39m minimize(nll, initial, args\u001b[38;5;241m=\u001b[39m(z_S, z_L, velDisp,\n\u001b[1;32m    234\u001b[0m                 velDispErr, theta_E, seeing_atm, theta_ap, virial_frac))  \u001b[38;5;66;03m# , method='Nelder-Mead', tol=1e-10)\u001b[39;00m\n",
      "File \u001b[0;32m~/Master_codes/Velocity_dispersion2022/2-mamon_beta/10_25-pyobject/rings2cosmo.py:140\u001b[0m, in \u001b[0;36mlog_likelihood\u001b[0;34m(theta, z_S, z_L, velDisp, velDispErr, theta_E, seeing_atm, theta_ap, virial_frac)\u001b[0m\n\u001b[1;32m    124\u001b[0m \u001b[38;5;124;03m\"\"\"log(Eq. (25)) from arXiv:0907.4992v2 \u001b[39;00m\n\u001b[1;32m    125\u001b[0m \n\u001b[1;32m    126\u001b[0m \u001b[38;5;124;03mArgs:\u001b[39;00m\n\u001b[0;32m   (...)\u001b[0m\n\u001b[1;32m    137\u001b[0m \u001b[38;5;124;03m    float: Log-likehood function given model for velocity dispersion and the one measured.\u001b[39;00m\n\u001b[1;32m    138\u001b[0m \u001b[38;5;124;03m\"\"\"\u001b[39;00m\n\u001b[1;32m    139\u001b[0m alpha, delta, gamma \u001b[38;5;241m=\u001b[39m theta\n\u001b[0;32m--> 140\u001b[0m model \u001b[38;5;241m=\u001b[39m \u001b[43mvel\u001b[49m\u001b[43m(\u001b[49m\u001b[43mz_S\u001b[49m\u001b[43m,\u001b[49m\u001b[43m \u001b[49m\u001b[43mz_L\u001b[49m\u001b[43m,\u001b[49m\u001b[43m \u001b[49m\u001b[43mtheta_E\u001b[49m\u001b[43m,\u001b[49m\u001b[43m \u001b[49m\u001b[43mseeing_atm\u001b[49m\u001b[43m,\u001b[49m\n\u001b[1;32m    141\u001b[0m \u001b[43m            \u001b[49m\u001b[43mtheta_ap\u001b[49m\u001b[43m,\u001b[49m\u001b[43m \u001b[49m\u001b[43mvirial_frac\u001b[49m\u001b[43m,\u001b[49m\u001b[43m \u001b[49m\u001b[43malpha\u001b[49m\u001b[43m,\u001b[49m\u001b[43m \u001b[49m\u001b[43mdelta\u001b[49m\u001b[43m,\u001b[49m\u001b[43m \u001b[49m\u001b[43mgamma\u001b[49m\u001b[43m)\u001b[49m\n\u001b[1;32m    142\u001b[0m \u001b[38;5;28;01mreturn\u001b[39;00m \u001b[38;5;241m-\u001b[39m \u001b[38;5;241m0.5\u001b[39m\u001b[38;5;241m*\u001b[39mnp\u001b[38;5;241m.\u001b[39msum((velDisp \u001b[38;5;241m-\u001b[39m model) \u001b[38;5;241m*\u001b[39m\u001b[38;5;241m*\u001b[39m \u001b[38;5;241m2\u001b[39m \u001b[38;5;241m/\u001b[39m (velDispErr \u001b[38;5;241m*\u001b[39m\u001b[38;5;241m*\u001b[39m \u001b[38;5;241m2\u001b[39m) \u001b[38;5;241m+\u001b[39m np\u001b[38;5;241m.\u001b[39mlog(\u001b[38;5;241m2\u001b[39m \u001b[38;5;241m*\u001b[39m np\u001b[38;5;241m.\u001b[39mpi \u001b[38;5;241m*\u001b[39m velDispErr \u001b[38;5;241m*\u001b[39m\u001b[38;5;241m*\u001b[39m \u001b[38;5;241m2\u001b[39m))\n",
      "File \u001b[0;32m~/anaconda3/envs/Velocity_dispersion2022/lib/python3.10/site-packages/numpy/lib/function_base.py:2163\u001b[0m, in \u001b[0;36mvectorize.__call__\u001b[0;34m(self, *args, **kwargs)\u001b[0m\n\u001b[1;32m   2160\u001b[0m     vargs \u001b[38;5;241m=\u001b[39m [args[_i] \u001b[38;5;28;01mfor\u001b[39;00m _i \u001b[38;5;129;01min\u001b[39;00m inds]\n\u001b[1;32m   2161\u001b[0m     vargs\u001b[38;5;241m.\u001b[39mextend([kwargs[_n] \u001b[38;5;28;01mfor\u001b[39;00m _n \u001b[38;5;129;01min\u001b[39;00m names])\n\u001b[0;32m-> 2163\u001b[0m \u001b[38;5;28;01mreturn\u001b[39;00m \u001b[38;5;28;43mself\u001b[39;49m\u001b[38;5;241;43m.\u001b[39;49m\u001b[43m_vectorize_call\u001b[49m\u001b[43m(\u001b[49m\u001b[43mfunc\u001b[49m\u001b[38;5;241;43m=\u001b[39;49m\u001b[43mfunc\u001b[49m\u001b[43m,\u001b[49m\u001b[43m \u001b[49m\u001b[43margs\u001b[49m\u001b[38;5;241;43m=\u001b[39;49m\u001b[43mvargs\u001b[49m\u001b[43m)\u001b[49m\n",
      "File \u001b[0;32m~/anaconda3/envs/Velocity_dispersion2022/lib/python3.10/site-packages/numpy/lib/function_base.py:2246\u001b[0m, in \u001b[0;36mvectorize._vectorize_call\u001b[0;34m(self, func, args)\u001b[0m\n\u001b[1;32m   2243\u001b[0m \u001b[38;5;66;03m# Convert args to object arrays first\u001b[39;00m\n\u001b[1;32m   2244\u001b[0m inputs \u001b[38;5;241m=\u001b[39m [asanyarray(a, dtype\u001b[38;5;241m=\u001b[39m\u001b[38;5;28mobject\u001b[39m) \u001b[38;5;28;01mfor\u001b[39;00m a \u001b[38;5;129;01min\u001b[39;00m args]\n\u001b[0;32m-> 2246\u001b[0m outputs \u001b[38;5;241m=\u001b[39m \u001b[43mufunc\u001b[49m\u001b[43m(\u001b[49m\u001b[38;5;241;43m*\u001b[39;49m\u001b[43minputs\u001b[49m\u001b[43m)\u001b[49m\n\u001b[1;32m   2248\u001b[0m \u001b[38;5;28;01mif\u001b[39;00m ufunc\u001b[38;5;241m.\u001b[39mnout \u001b[38;5;241m==\u001b[39m \u001b[38;5;241m1\u001b[39m:\n\u001b[1;32m   2249\u001b[0m     res \u001b[38;5;241m=\u001b[39m asanyarray(outputs, dtype\u001b[38;5;241m=\u001b[39motypes[\u001b[38;5;241m0\u001b[39m])\n",
      "File \u001b[0;32m~/Master_codes/Velocity_dispersion2022/2-mamon_beta/10_25-pyobject/rings2cosmo.py:108\u001b[0m, in \u001b[0;36mVD_scalar\u001b[0;34m(z_S, z_L, theta_E, seeing_atm, theta_ap, virial_frac, alpha, delta, gamma)\u001b[0m\n\u001b[1;32m    106\u001b[0m b \u001b[38;5;241m=\u001b[39m b_func (DL, seeing_atm, theta_ap)\n\u001b[1;32m    107\u001b[0m ra \u001b[38;5;241m=\u001b[39m virial_frac\u001b[38;5;241m*\u001b[39mvirial_radii (DS, DL, DLS, theta_E, gamma, alpha)\n\u001b[0;32m--> 108\u001b[0m integral \u001b[38;5;241m=\u001b[39m \u001b[43mVDmod\u001b[49m\u001b[38;5;241;43m.\u001b[39;49m\u001b[43mintegralVD\u001b[49m\u001b[43m(\u001b[49m\u001b[43mb\u001b[49m\u001b[43m,\u001b[49m\u001b[43malpha\u001b[49m\u001b[43m,\u001b[49m\u001b[43mdelta\u001b[49m\u001b[43m,\u001b[49m\u001b[43mra\u001b[49m\u001b[43m)\u001b[49m\n\u001b[1;32m    111\u001b[0m C_mamon_term \u001b[38;5;241m=\u001b[39m mamon_parameters (DL, DS, DLS, theta_E, alpha, delta,gamma)\n\u001b[1;32m    112\u001b[0m weigth_term \u001b[38;5;241m=\u001b[39m Weight_normalization(seeing_atm, theta_ap,DL, theta_E, delta)\n",
      "\u001b[0;31mKeyboardInterrupt\u001b[0m: "
     ]
    }
   ],
   "source": [
    "rings2cosmo.minimization_loglikelihood(z_S, z_L, velDisp, velDispErr, theta_E, seeing_atm, theta_ap, virial_frac)"
   ]
  },
  {
   "cell_type": "code",
   "execution_count": 6,
   "id": "2c82959b-9c7a-4e18-a4cb-8d0d58345db4",
   "metadata": {},
   "outputs": [],
   "source": [
    "mean_alpha = 2.0\n",
    "var_alpha = 0.08\n",
    "mean_delta = 2.4\n",
    "var_delta = 0.11\n",
    "\n",
    "#X_param = rings2cosmo.minimization_logprobability(z_S, z_L, velDisp, velDispErr, theta_E, seeing_atm, theta_ap, virial_frac,)\n"
   ]
  },
  {
   "cell_type": "code",
   "execution_count": 12,
   "id": "8829f2cc-1dcf-4371-8146-e8fef1485a8a",
   "metadata": {},
   "outputs": [
    {
     "name": "stderr",
     "output_type": "stream",
     "text": [
      "/home/grasi/anaconda3/envs/Velocity_dispersion2022/lib/python3.10/site-packages/scipy/optimize/_numdiff.py:557: RuntimeWarning: invalid value encountered in subtract\n",
      "  df = fun(x) - f0\n"
     ]
    }
   ],
   "source": [
    "start_time = time.time()\n",
    "X_param = rings2cosmo.minimization_logprobability(z_S, z_L, velDisp, velDispErr, theta_E, seeing_atm, theta_ap, virial_frac,)\n",
    "end_time = time.time() "
   ]
  },
  {
   "cell_type": "code",
   "execution_count": 13,
   "id": "9e08f3d5-d9c6-40b9-a13f-243f74ed229d",
   "metadata": {},
   "outputs": [
    {
     "data": {
      "text/plain": [
       "3074.316337823868"
      ]
     },
     "execution_count": 13,
     "metadata": {},
     "output_type": "execute_result"
    }
   ],
   "source": [
    "end_time - start_time"
   ]
  },
  {
   "cell_type": "code",
   "execution_count": 14,
   "id": "1e6f7877-1959-4fd8-9a81-7ad6769f90fe",
   "metadata": {},
   "outputs": [
    {
     "data": {
      "text/plain": [
       "(1.9955826679688822, 2.400139861826421, 0.8985651808779517)"
      ]
     },
     "execution_count": 14,
     "metadata": {},
     "output_type": "execute_result"
    }
   ],
   "source": [
    "X_param"
   ]
  },
  {
   "cell_type": "code",
   "execution_count": 7,
   "id": "fb94a412-358b-45cf-a8af-b8b2a03f45cc",
   "metadata": {},
   "outputs": [],
   "source": [
    "### w/ constrains\n",
    "start_time = time.time()\n",
    "X_param = rings2cosmo.minimization_logprobability(z_S, z_L, velDisp, velDispErr, theta_E, seeing_atm, theta_ap, virial_frac,)\n",
    "end_time = time.time() "
   ]
  },
  {
   "cell_type": "code",
   "execution_count": 8,
   "id": "1112a274-4df4-478f-8a32-75a42d940368",
   "metadata": {},
   "outputs": [
    {
     "data": {
      "text/plain": [
       "435.91890573501587"
      ]
     },
     "execution_count": 8,
     "metadata": {},
     "output_type": "execute_result"
    }
   ],
   "source": [
    "end_time - start_time"
   ]
  },
  {
   "cell_type": "code",
   "execution_count": 9,
   "id": "b44d9e3f-a0d3-46f1-a193-adeb4b7ef6d4",
   "metadata": {},
   "outputs": [
    {
     "data": {
      "text/plain": [
       "(1.9955828741424766, 2.400132094301794, 0.8985611672692515)"
      ]
     },
     "execution_count": 9,
     "metadata": {},
     "output_type": "execute_result"
    }
   ],
   "source": [
    "X_param"
   ]
  },
  {
   "cell_type": "code",
   "execution_count": null,
   "id": "aceb50b1-9b8b-4181-a236-0017f28bf9cb",
   "metadata": {},
   "outputs": [],
   "source": []
  },
  {
   "cell_type": "code",
   "execution_count": null,
   "id": "43d2aebb-1a89-4e4b-b539-fa44f2d5dc04",
   "metadata": {},
   "outputs": [],
   "source": []
  },
  {
   "cell_type": "markdown",
   "id": "aeb88ca3-d38b-4d05-87fa-aebefbf0b0fc",
   "metadata": {},
   "source": [
    "## MCMC"
   ]
  },
  {
   "cell_type": "code",
   "execution_count": null,
   "id": "efc7f7c0-0ee1-4586-b5bf-81db622340bb",
   "metadata": {},
   "outputs": [],
   "source": [
    "start_time = time.time()\n",
    "n_dim = 3         # number of parameters in the model \n",
    "n_walkers = 64 # number of MCMC walkers \n",
    "n_burn = 500      # \"burn-in\" period to let chains stabilize\n",
    "n_steps = 1000    # number of MCMC steps to take after burn-in\n",
    "seed = 11\n",
    "sampler = rings2cosmo.logprobability_sampling(z_S, z_L, velDisp, velDispErr, theta_E, seeing_atm, theta_ap, virial_frac,\n",
    "                            seed = seed, alpha_ini = mean_alpha,  delta_ini = mean_delta, gamma_ini = gamma,  \n",
    "                            alpha_0_value = mean_alpha, eps_alpha_0_value = var_alpha, \n",
    "                            delta_0_value=mean_delta, eps_delta_0_value=var_delta,\n",
    "                            n_dim = n_dim, n_walkers = n_walkers, n_burn = n_burn, \n",
    "                            n_steps = n_steps, progress = True, processes = 10)\n",
    "end_time = time.time() "
   ]
  },
  {
   "cell_type": "code",
   "execution_count": null,
   "id": "a0a398b6-2cf6-4c27-996f-cd32ee942e8f",
   "metadata": {},
   "outputs": [],
   "source": [
    "end_time - start_time"
   ]
  },
  {
   "cell_type": "code",
   "execution_count": null,
   "id": "fa9df3ae-8e46-4dff-9db7-d442e60ad7a9",
   "metadata": {},
   "outputs": [],
   "source": []
  },
  {
   "cell_type": "code",
   "execution_count": null,
   "id": "5e16e634-53fb-4f2f-9269-459f0b69e27c",
   "metadata": {},
   "outputs": [],
   "source": []
  }
 ],
 "metadata": {
  "kernelspec": {
   "display_name": "Python 3 (ipykernel)",
   "language": "python",
   "name": "python3"
  },
  "language_info": {
   "codemirror_mode": {
    "name": "ipython",
    "version": 3
   },
   "file_extension": ".py",
   "mimetype": "text/x-python",
   "name": "python",
   "nbconvert_exporter": "python",
   "pygments_lexer": "ipython3",
   "version": "3.10.3"
  }
 },
 "nbformat": 4,
 "nbformat_minor": 5
}
