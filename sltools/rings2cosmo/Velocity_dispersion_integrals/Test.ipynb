{
 "cells": [
  {
   "cell_type": "code",
   "execution_count": 1,
   "metadata": {},
   "outputs": [],
   "source": [
    "### libraries\n",
    "import sys\n",
    "\n",
    "sys.path.append('../')\n",
    "\n",
    "import Velocity_dispersion\n",
    "import pandas as pd\n",
    "import numpy as np\n",
    "import scipy as sp\n",
    "from matplotlib import pyplot as plt\n",
    "\n",
    "\n",
    "from astropy import constants as const\n",
    "from astropy import units as u\n",
    "from astropy.cosmology import FlatLambdaCDM\n",
    "cosmo = FlatLambdaCDM(H0 = 67.3, Om0 = 0.315)"
   ]
  },
  {
   "cell_type": "code",
   "execution_count": 2,
   "metadata": {},
   "outputs": [
    {
     "data": {
      "text/html": [
       "<div>\n",
       "<style scoped>\n",
       "    .dataframe tbody tr th:only-of-type {\n",
       "        vertical-align: middle;\n",
       "    }\n",
       "\n",
       "    .dataframe tbody tr th {\n",
       "        vertical-align: top;\n",
       "    }\n",
       "\n",
       "    .dataframe thead th {\n",
       "        text-align: right;\n",
       "    }\n",
       "</style>\n",
       "<table border=\"1\" class=\"dataframe\">\n",
       "  <thead>\n",
       "    <tr style=\"text-align: right;\">\n",
       "      <th></th>\n",
       "      <th>name</th>\n",
       "      <th>zl</th>\n",
       "      <th>zs</th>\n",
       "      <th>sigma_0</th>\n",
       "      <th>dsigma_0</th>\n",
       "      <th>theta_E</th>\n",
       "      <th>theta_ap</th>\n",
       "      <th>sigma_atm</th>\n",
       "      <th>sigma_ap</th>\n",
       "      <th>d_sigma_ap</th>\n",
       "    </tr>\n",
       "  </thead>\n",
       "  <tbody>\n",
       "    <tr>\n",
       "      <th>0</th>\n",
       "      <td>J2321-0939</td>\n",
       "      <td>0.082</td>\n",
       "      <td>0.532</td>\n",
       "      <td>246</td>\n",
       "      <td>8</td>\n",
       "      <td>1.60</td>\n",
       "      <td>1.5</td>\n",
       "      <td>1.4</td>\n",
       "      <td>249</td>\n",
       "      <td>8</td>\n",
       "    </tr>\n",
       "    <tr>\n",
       "      <th>1</th>\n",
       "      <td>J1106+5228</td>\n",
       "      <td>0.096</td>\n",
       "      <td>0.407</td>\n",
       "      <td>268</td>\n",
       "      <td>13</td>\n",
       "      <td>1.23</td>\n",
       "      <td>1.5</td>\n",
       "      <td>1.4</td>\n",
       "      <td>262</td>\n",
       "      <td>13</td>\n",
       "    </tr>\n",
       "    <tr>\n",
       "      <th>2</th>\n",
       "      <td>J1143-0144</td>\n",
       "      <td>0.106</td>\n",
       "      <td>0.402</td>\n",
       "      <td>264</td>\n",
       "      <td>13</td>\n",
       "      <td>1.68</td>\n",
       "      <td>1.5</td>\n",
       "      <td>1.4</td>\n",
       "      <td>269</td>\n",
       "      <td>13</td>\n",
       "    </tr>\n",
       "    <tr>\n",
       "      <th>3</th>\n",
       "      <td>J0841+3824</td>\n",
       "      <td>0.116</td>\n",
       "      <td>0.657</td>\n",
       "      <td>222</td>\n",
       "      <td>11</td>\n",
       "      <td>1.41</td>\n",
       "      <td>1.5</td>\n",
       "      <td>1.4</td>\n",
       "      <td>225</td>\n",
       "      <td>11</td>\n",
       "    </tr>\n",
       "    <tr>\n",
       "      <th>4</th>\n",
       "      <td>J0044+0113</td>\n",
       "      <td>0.120</td>\n",
       "      <td>0.196</td>\n",
       "      <td>267</td>\n",
       "      <td>13</td>\n",
       "      <td>0.79</td>\n",
       "      <td>1.5</td>\n",
       "      <td>1.4</td>\n",
       "      <td>266</td>\n",
       "      <td>13</td>\n",
       "    </tr>\n",
       "  </tbody>\n",
       "</table>\n",
       "</div>"
      ],
      "text/plain": [
       "         name     zl     zs  sigma_0  dsigma_0  theta_E  theta_ap  sigma_atm  \\\n",
       "0  J2321-0939  0.082  0.532      246         8     1.60       1.5        1.4   \n",
       "1  J1106+5228  0.096  0.407      268        13     1.23       1.5        1.4   \n",
       "2  J1143-0144  0.106  0.402      264        13     1.68       1.5        1.4   \n",
       "3  J0841+3824  0.116  0.657      222        11     1.41       1.5        1.4   \n",
       "4  J0044+0113  0.120  0.196      267        13     0.79       1.5        1.4   \n",
       "\n",
       "   sigma_ap  d_sigma_ap  \n",
       "0       249           8  \n",
       "1       262          13  \n",
       "2       269          13  \n",
       "3       225          11  \n",
       "4       266          13  "
      ]
     },
     "execution_count": 2,
     "metadata": {},
     "output_type": "execute_result"
    }
   ],
   "source": [
    "## importing cao object for tests\n",
    "data = pd.read_csv('../data/sample80.csv')\n",
    "data.head()"
   ]
  },
  {
   "cell_type": "code",
   "execution_count": 3,
   "metadata": {},
   "outputs": [],
   "source": [
    "### variables and unity convesion\n",
    "\n",
    "z_L = data['zl'][0]\n",
    "z_S = data['zs'][0]\n",
    "theta_E = (data['theta_E'].values * u.arcsec).to(u.rad)[0].value\n",
    "theta_ap = (data['theta_ap'].values * u.arcsec).to(u.rad)[0].value\n",
    "seeing_atm = (data['sigma_atm'].values * u.arcsec).to(u.rad)[0].value\n",
    "velDisp = data['sigma_ap'][0]\n",
    "velDispErr = data['d_sigma_ap'][0]"
   ]
  },
  {
   "cell_type": "code",
   "execution_count": 4,
   "metadata": {},
   "outputs": [
    {
     "name": "stdout",
     "output_type": "stream",
     "text": [
      "0.082 0.532 7.757018897752577e-06 7.27220521664304e-06 6.787391535533504e-06 249 8\n"
     ]
    }
   ],
   "source": [
    "print(z_L, z_S, theta_E ,theta_ap, seeing_atm, velDisp, velDispErr)"
   ]
  },
  {
   "cell_type": "code",
   "execution_count": 5,
   "metadata": {},
   "outputs": [],
   "source": [
    "alpha = 2.0\n",
    "beta = 0.18\n",
    "delta = 2.4\n",
    "gamma = 1.0"
   ]
  },
  {
   "cell_type": "markdown",
   "metadata": {},
   "source": [
    "Testing the normalization function"
   ]
  },
  {
   "cell_type": "code",
   "execution_count": 6,
   "metadata": {},
   "outputs": [
    {
     "data": {
      "text/plain": [
       "0.1291742733204768"
      ]
     },
     "execution_count": 6,
     "metadata": {},
     "output_type": "execute_result"
    }
   ],
   "source": [
    "Velocity_dispersion.Weight_normalization(seeing_atm, theta_ap,z_L, theta_E, delta)"
   ]
  },
  {
   "cell_type": "markdown",
   "metadata": {},
   "source": [
    "the integral"
   ]
  },
  {
   "cell_type": "code",
   "execution_count": 7,
   "metadata": {},
   "outputs": [
    {
     "name": "stderr",
     "output_type": "stream",
     "text": [
      "/home/grasi-linux/anaconda3/envs/Velocity_dispersion/lib/python3.10/site-packages/scipy/integrate/quadpack.py:879: IntegrationWarning: The algorithm does not converge.  Roundoff error is detected\n",
      "  in the extrapolation table.  It is assumed that the requested tolerance\n",
      "  cannot be achieved, and that the returned result (if full_output = 1) is \n",
      "  the best which can be obtained.\n",
      "  quad_r = quad(f, low, high, args=args, full_output=self.full_output,\n",
      "/home/grasi-linux/anaconda3/envs/Velocity_dispersion/lib/python3.10/site-packages/scipy/integrate/quadpack.py:879: IntegrationWarning: The integral is probably divergent, or slowly convergent.\n",
      "  quad_r = quad(f, low, high, args=args, full_output=self.full_output,\n",
      "/home/grasi-linux/anaconda3/envs/Velocity_dispersion/lib/python3.10/site-packages/scipy/integrate/quadpack.py:879: IntegrationWarning: The maximum number of subdivisions (50) has been achieved.\n",
      "  If increasing the limit yields no improvement it is advised to analyze \n",
      "  the integrand in order to determine the difficulties.  If the position of a \n",
      "  local difficulty can be determined (singularity, discontinuity) one will \n",
      "  probably gain from splitting up the interval and calling the integrator \n",
      "  on the subranges.  Perhaps a special-purpose integrator should be used.\n",
      "  quad_r = quad(f, low, high, args=args, full_output=self.full_output,\n"
     ]
    },
    {
     "data": {
      "text/plain": [
       "240.10889884740493"
      ]
     },
     "execution_count": 7,
     "metadata": {},
     "output_type": "execute_result"
    }
   ],
   "source": [
    "Velocity_dispersion.sigma_star(z_L,z_S,theta_E, seeing_atm, theta_ap, alpha, beta, delta,gamma)"
   ]
  },
  {
   "cell_type": "code",
   "execution_count": null,
   "metadata": {},
   "outputs": [],
   "source": []
  },
  {
   "cell_type": "code",
   "execution_count": null,
   "metadata": {},
   "outputs": [],
   "source": []
  }
 ],
 "metadata": {
  "interpreter": {
   "hash": "82ee6f4a1e2d293a9e2a1f52361e7efda5389fcb127466388fcc83a63d9f4bd2"
  },
  "kernelspec": {
   "display_name": "Python 3 (ipykernel)",
   "language": "python",
   "name": "python3"
  },
  "language_info": {
   "codemirror_mode": {
    "name": "ipython",
    "version": 3
   },
   "file_extension": ".py",
   "mimetype": "text/x-python",
   "name": "python",
   "nbconvert_exporter": "python",
   "pygments_lexer": "ipython3",
   "version": "3.10.3"
  }
 },
 "nbformat": 4,
 "nbformat_minor": 2
}
