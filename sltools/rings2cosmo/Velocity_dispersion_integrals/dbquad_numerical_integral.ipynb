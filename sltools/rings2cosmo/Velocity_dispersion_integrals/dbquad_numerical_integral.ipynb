{
 "cells": [
  {
   "cell_type": "markdown",
   "metadata": {},
   "source": [
    "# Numerical Integrals to obtain $\\sigma_*$\n",
    "\n",
    "After one solved the Jeans equation to obtain $\\sigma^2_r$ one maight want to compare it to observacional results, and in order to do it, it is necessary to solve the follow equation\n",
    "\n",
    "$$\n",
    "\\left \\langle  \\sigma^2_*\\right \\rangle = \\frac{2\\int_0^{\\infty}\\int_R^{\\infty}\\omega(R)\\frac{\\nu(r)\\sigma^2_r(r)}{\\sqrt{r^2 - R^2}}\\left (1 - \\beta\\frac{R^2}{r^2}\\right )rdrRdR}{\\int_0^{\\infty}\\int_R^{\\infty}\\omega(R)\\frac{2\\nu(r)}{\\sqrt{r^2 - R^2}}rdrRdR}\n",
    "$$\n",
    "\n",
    "where $\\nu(r)$ is the light profile, $\\left (1 - \\beta\\frac{R^2}{r^2}\\right )$ is the anysotropy term and $\\omega(R)$ is the weight function that takes into account the observational conditions, for SDSS spectra it can be given by equation 21 in [arXiv:0907.4992v2](https://arxiv.org/pdf/0907.4992.pdf). Finally the velocity dispersion measured through the spectra is given by $\\sigma_* = \\sqrt{\\left \\langle  \\sigma^2_*\\right \\rangle}$.\n",
    "\n",
    "Nevertheless, for a constant $\\beta$ this equation can be solved analitically, for more conplex anisotropies ($\\beta = \\beta(r))$ it became a trick one to solve. \n",
    "In this Notebook I inted to test numerical integration metods to solve this equation, using a constant $\\beta$ because of the possibility of cross check the numerical results with the analitical ones.\n"
   ]
  },
  {
   "cell_type": "code",
   "execution_count": 91,
   "metadata": {},
   "outputs": [],
   "source": [
    "### libraries\n",
    "import sys\n",
    "\n",
    "sys.path.append('../')\n",
    "\n",
    "import Velocity_dispersion\n",
    "import rings2cosmo\n",
    "import pandas as pd\n",
    "import numpy as np\n",
    "import scipy as sp\n",
    "from matplotlib import pyplot as plt\n",
    "import seaborn\n",
    "\n",
    "from astropy import constants as const\n",
    "from astropy import units as u\n",
    "from astropy.cosmology import FlatLambdaCDM\n",
    "cosmo = FlatLambdaCDM(H0 = 67.3, Om0 = 0.315)"
   ]
  },
  {
   "cell_type": "markdown",
   "metadata": {},
   "source": [
    "## The data\n",
    "I wil use the same data as in [arXiv:1701.00357](https://arxiv.org/pdf/1701.00357.pdf)."
   ]
  },
  {
   "cell_type": "code",
   "execution_count": 2,
   "metadata": {},
   "outputs": [
    {
     "data": {
      "text/html": [
       "<div>\n",
       "<style scoped>\n",
       "    .dataframe tbody tr th:only-of-type {\n",
       "        vertical-align: middle;\n",
       "    }\n",
       "\n",
       "    .dataframe tbody tr th {\n",
       "        vertical-align: top;\n",
       "    }\n",
       "\n",
       "    .dataframe thead th {\n",
       "        text-align: right;\n",
       "    }\n",
       "</style>\n",
       "<table border=\"1\" class=\"dataframe\">\n",
       "  <thead>\n",
       "    <tr style=\"text-align: right;\">\n",
       "      <th></th>\n",
       "      <th>name</th>\n",
       "      <th>zl</th>\n",
       "      <th>zs</th>\n",
       "      <th>sigma_0</th>\n",
       "      <th>dsigma_0</th>\n",
       "      <th>theta_E</th>\n",
       "      <th>theta_ap</th>\n",
       "      <th>sigma_atm</th>\n",
       "      <th>sigma_ap</th>\n",
       "      <th>d_sigma_ap</th>\n",
       "    </tr>\n",
       "  </thead>\n",
       "  <tbody>\n",
       "    <tr>\n",
       "      <th>0</th>\n",
       "      <td>J2321-0939</td>\n",
       "      <td>0.082</td>\n",
       "      <td>0.532</td>\n",
       "      <td>246</td>\n",
       "      <td>8</td>\n",
       "      <td>1.60</td>\n",
       "      <td>1.5</td>\n",
       "      <td>1.4</td>\n",
       "      <td>249</td>\n",
       "      <td>8</td>\n",
       "    </tr>\n",
       "    <tr>\n",
       "      <th>1</th>\n",
       "      <td>J1106+5228</td>\n",
       "      <td>0.096</td>\n",
       "      <td>0.407</td>\n",
       "      <td>268</td>\n",
       "      <td>13</td>\n",
       "      <td>1.23</td>\n",
       "      <td>1.5</td>\n",
       "      <td>1.4</td>\n",
       "      <td>262</td>\n",
       "      <td>13</td>\n",
       "    </tr>\n",
       "    <tr>\n",
       "      <th>2</th>\n",
       "      <td>J1143-0144</td>\n",
       "      <td>0.106</td>\n",
       "      <td>0.402</td>\n",
       "      <td>264</td>\n",
       "      <td>13</td>\n",
       "      <td>1.68</td>\n",
       "      <td>1.5</td>\n",
       "      <td>1.4</td>\n",
       "      <td>269</td>\n",
       "      <td>13</td>\n",
       "    </tr>\n",
       "    <tr>\n",
       "      <th>3</th>\n",
       "      <td>J0841+3824</td>\n",
       "      <td>0.116</td>\n",
       "      <td>0.657</td>\n",
       "      <td>222</td>\n",
       "      <td>11</td>\n",
       "      <td>1.41</td>\n",
       "      <td>1.5</td>\n",
       "      <td>1.4</td>\n",
       "      <td>225</td>\n",
       "      <td>11</td>\n",
       "    </tr>\n",
       "    <tr>\n",
       "      <th>4</th>\n",
       "      <td>J0044+0113</td>\n",
       "      <td>0.120</td>\n",
       "      <td>0.196</td>\n",
       "      <td>267</td>\n",
       "      <td>13</td>\n",
       "      <td>0.79</td>\n",
       "      <td>1.5</td>\n",
       "      <td>1.4</td>\n",
       "      <td>266</td>\n",
       "      <td>13</td>\n",
       "    </tr>\n",
       "  </tbody>\n",
       "</table>\n",
       "</div>"
      ],
      "text/plain": [
       "         name     zl     zs  sigma_0  dsigma_0  theta_E  theta_ap  sigma_atm  \\\n",
       "0  J2321-0939  0.082  0.532      246         8     1.60       1.5        1.4   \n",
       "1  J1106+5228  0.096  0.407      268        13     1.23       1.5        1.4   \n",
       "2  J1143-0144  0.106  0.402      264        13     1.68       1.5        1.4   \n",
       "3  J0841+3824  0.116  0.657      222        11     1.41       1.5        1.4   \n",
       "4  J0044+0113  0.120  0.196      267        13     0.79       1.5        1.4   \n",
       "\n",
       "   sigma_ap  d_sigma_ap  \n",
       "0       249           8  \n",
       "1       262          13  \n",
       "2       269          13  \n",
       "3       225          11  \n",
       "4       266          13  "
      ]
     },
     "execution_count": 2,
     "metadata": {},
     "output_type": "execute_result"
    }
   ],
   "source": [
    "## importing cao object for tests\n",
    "data = pd.read_csv('../data/sample80.csv')\n",
    "data.head()"
   ]
  },
  {
   "cell_type": "code",
   "execution_count": 3,
   "metadata": {},
   "outputs": [],
   "source": [
    "### variables and unity convesion\n",
    "\n",
    "z_L = data['zl'][0]\n",
    "z_S = data['zs'][0]\n",
    "theta_E = (data['theta_E'].values * u.arcsec).to(u.rad)[0].value\n",
    "theta_ap = (data['theta_ap'].values * u.arcsec).to(u.rad)[0].value\n",
    "seeing_atm = (data['sigma_atm'].values * u.arcsec).to(u.rad)[0].value\n",
    "velDisp = data['sigma_ap'][0]\n",
    "velDispErr = data['d_sigma_ap'][0]"
   ]
  },
  {
   "cell_type": "code",
   "execution_count": 4,
   "metadata": {},
   "outputs": [
    {
     "name": "stdout",
     "output_type": "stream",
     "text": [
      "0.082 0.532 7.757018897752577e-06 7.27220521664304e-06 6.787391535533504e-06 249 8\n"
     ]
    }
   ],
   "source": [
    "print(z_L, z_S, theta_E ,theta_ap, seeing_atm, velDisp, velDispErr)"
   ]
  },
  {
   "cell_type": "markdown",
   "metadata": {
    "tags": []
   },
   "source": [
    "## The numerical integral\n",
    "\n",
    "Here I am using the function scipy.integrate.dbquad (see in Velocity_dispersion.py).\n",
    "\n",
    "Starting with a smal test."
   ]
  },
  {
   "cell_type": "code",
   "execution_count": 5,
   "metadata": {},
   "outputs": [],
   "source": [
    "#parameters not related to data\n",
    "alpha = 2.0\n",
    "beta = 0.18\n",
    "delta = 2.4\n",
    "gamma = 1.0\n",
    "epsabs = 1.49e-03"
   ]
  },
  {
   "cell_type": "code",
   "execution_count": 6,
   "metadata": {},
   "outputs": [
    {
     "name": "stderr",
     "output_type": "stream",
     "text": [
      "/home/grasi/anaconda3/envs/Velocity_dispersion2022/lib/python3.10/site-packages/scipy/integrate/quadpack.py:879: IntegrationWarning: The algorithm does not converge.  Roundoff error is detected\n",
      "  in the extrapolation table.  It is assumed that the requested tolerance\n",
      "  cannot be achieved, and that the returned result (if full_output = 1) is \n",
      "  the best which can be obtained.\n",
      "  quad_r = quad(f, low, high, args=args, full_output=self.full_output,\n",
      "/home/grasi/anaconda3/envs/Velocity_dispersion2022/lib/python3.10/site-packages/scipy/integrate/quadpack.py:879: IntegrationWarning: The integral is probably divergent, or slowly convergent.\n",
      "  quad_r = quad(f, low, high, args=args, full_output=self.full_output,\n",
      "/home/grasi/anaconda3/envs/Velocity_dispersion2022/lib/python3.10/site-packages/scipy/integrate/quadpack.py:879: IntegrationWarning: The maximum number of subdivisions (50) has been achieved.\n",
      "  If increasing the limit yields no improvement it is advised to analyze \n",
      "  the integrand in order to determine the difficulties.  If the position of a \n",
      "  local difficulty can be determined (singularity, discontinuity) one will \n",
      "  probably gain from splitting up the interval and calling the integrator \n",
      "  on the subranges.  Perhaps a special-purpose integrator should be used.\n",
      "  quad_r = quad(f, low, high, args=args, full_output=self.full_output,\n"
     ]
    }
   ],
   "source": [
    "#the numerical result\n",
    "r = Velocity_dispersion.sigma_star(z_L,z_S,theta_E, seeing_atm, theta_ap, alpha, beta, delta,gamma, epsabs)"
   ]
  },
  {
   "cell_type": "code",
   "execution_count": 7,
   "metadata": {},
   "outputs": [
    {
     "data": {
      "text/plain": [
       "(240.10889884740445, 7447.191801281745, 86574202.81956239)"
      ]
     },
     "execution_count": 7,
     "metadata": {},
     "output_type": "execute_result"
    }
   ],
   "source": [
    "#(240.11096922329975, 7447.320230947961, 267175926.2984453) relative\n",
    "r"
   ]
  },
  {
   "cell_type": "code",
   "execution_count": 15,
   "metadata": {},
   "outputs": [
    {
     "data": {
      "text/latex": [
       "$242.72671 \\; \\mathrm{}$"
      ],
      "text/plain": [
       "<Quantity 242.72671402>"
      ]
     },
     "execution_count": 15,
     "metadata": {},
     "output_type": "execute_result"
    }
   ],
   "source": [
    "#the analitical result\n",
    "rings2cosmo.vel(z_S, z_L, theta_E, seeing_atm, theta_ap, alpha, beta, gamma, delta)"
   ]
  },
  {
   "cell_type": "markdown",
   "metadata": {},
   "source": [
    "So here we can see that the numerical integration got satisfactorily close to the analitical value (relative error ~ 1%), even though the integral error is quite righ.\n",
    "So I will generate a few values in order to perform some tests"
   ]
  },
  {
   "cell_type": "code",
   "execution_count": 10,
   "metadata": {},
   "outputs": [
    {
     "name": "stderr",
     "output_type": "stream",
     "text": [
      "/home/grasi/anaconda3/envs/Velocity_dispersion2022/lib/python3.10/site-packages/scipy/integrate/quadpack.py:879: IntegrationWarning: The algorithm does not converge.  Roundoff error is detected\n",
      "  in the extrapolation table.  It is assumed that the requested tolerance\n",
      "  cannot be achieved, and that the returned result (if full_output = 1) is \n",
      "  the best which can be obtained.\n",
      "  quad_r = quad(f, low, high, args=args, full_output=self.full_output,\n",
      "/home/grasi/anaconda3/envs/Velocity_dispersion2022/lib/python3.10/site-packages/scipy/integrate/quadpack.py:879: IntegrationWarning: The integral is probably divergent, or slowly convergent.\n",
      "  quad_r = quad(f, low, high, args=args, full_output=self.full_output,\n",
      "/home/grasi/anaconda3/envs/Velocity_dispersion2022/lib/python3.10/site-packages/scipy/integrate/quadpack.py:879: IntegrationWarning: The maximum number of subdivisions (50) has been achieved.\n",
      "  If increasing the limit yields no improvement it is advised to analyze \n",
      "  the integrand in order to determine the difficulties.  If the position of a \n",
      "  local difficulty can be determined (singularity, discontinuity) one will \n",
      "  probably gain from splitting up the interval and calling the integrator \n",
      "  on the subranges.  Perhaps a special-purpose integrator should be used.\n",
      "  quad_r = quad(f, low, high, args=args, full_output=self.full_output,\n"
     ]
    }
   ],
   "source": [
    "#this can take a wile\n",
    "#about 1.5 days\n",
    "results = []\n",
    "cols = (\"name\", \"numerical_sigma\", \"integral_result\", \"integral_error\", \"epsabs\")\n",
    "\n",
    "alpha = 2.0\n",
    "beta = 0.18\n",
    "delta = 2.4\n",
    "gamma = 1.0\n",
    "epsabs_values = (1.49e-01, 1.49e-02, 1.49e-03, 1.49e-04, 1.49e-05, 1.49e-06, 1.49e-07, 1.49e-08)\n",
    "data = pd.read_csv('../data/sample80.csv')\n",
    "\n",
    "for epsabs in epsabs_values:\n",
    "    for i in range(len(data)):\n",
    "        ## data\n",
    "        name = data['name'][i]\n",
    "        z_L = data['zl'][i]\n",
    "        z_S = data['zs'][i]\n",
    "        theta_E = (data['theta_E'].values * u.arcsec).to(u.rad)[i].value\n",
    "        theta_ap = (data['theta_ap'].values * u.arcsec).to(u.rad)[i].value\n",
    "        seeing_atm = (data['sigma_atm'].values * u.arcsec).to(u.rad)[i].value\n",
    "        \n",
    "        integral = Velocity_dispersion.sigma_star(z_L,z_S,theta_E, seeing_atm, theta_ap, alpha, beta, delta,gamma, epsabs)\n",
    "        \n",
    "        temp = (name, integral[0], integral[1],integral[2], epsabs)\n",
    "        results.append (dict(zip(cols,temp)))\n",
    "        \n"
   ]
  },
  {
   "cell_type": "code",
   "execution_count": 11,
   "metadata": {},
   "outputs": [],
   "source": [
    "df = pd.DataFrame(results)\n",
    "df.to_csv(\"results.csv\", index = False)"
   ]
  },
  {
   "cell_type": "markdown",
   "metadata": {},
   "source": []
  }
 ],
 "metadata": {
  "interpreter": {
   "hash": "82ee6f4a1e2d293a9e2a1f52361e7efda5389fcb127466388fcc83a63d9f4bd2"
  },
  "kernelspec": {
   "display_name": "Python 3 (ipykernel)",
   "language": "python",
   "name": "python3"
  },
  "language_info": {
   "codemirror_mode": {
    "name": "ipython",
    "version": 3
   },
   "file_extension": ".py",
   "mimetype": "text/x-python",
   "name": "python",
   "nbconvert_exporter": "python",
   "pygments_lexer": "ipython3",
   "version": "3.10.3"
  }
 },
 "nbformat": 4,
 "nbformat_minor": 4
}
