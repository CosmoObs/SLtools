{
 "cells": [
  {
   "cell_type": "markdown",
   "id": "4582fdcf-a978-46df-b330-b0ecc5794a86",
   "metadata": {},
   "source": [
    "# Few tests on the integration efficience"
   ]
  },
  {
   "cell_type": "code",
   "execution_count": 2,
   "id": "4ba1132e-a217-4918-ae36-3abc567b6a1d",
   "metadata": {},
   "outputs": [],
   "source": [
    "### libraries\n",
    "import sys\n",
    "\n",
    "sys.path.append('../')\n",
    "\n",
    "import Velocity_dispersion\n",
    "import rings2cosmo\n",
    "import pandas as pd\n",
    "import numpy as np\n",
    "import scipy as sp\n",
    "from matplotlib import pyplot as plt\n",
    "import seaborn\n",
    "\n",
    "from astropy import constants as const\n",
    "from astropy import units as u\n",
    "from astropy.cosmology import FlatLambdaCDM\n",
    "cosmo = FlatLambdaCDM(H0 = 67.3, Om0 = 0.315)"
   ]
  },
  {
   "cell_type": "code",
   "execution_count": 3,
   "id": "e675bd7d-4a78-450a-98d6-36fb0abc1b3e",
   "metadata": {},
   "outputs": [
    {
     "data": {
      "text/html": [
       "<div>\n",
       "<style scoped>\n",
       "    .dataframe tbody tr th:only-of-type {\n",
       "        vertical-align: middle;\n",
       "    }\n",
       "\n",
       "    .dataframe tbody tr th {\n",
       "        vertical-align: top;\n",
       "    }\n",
       "\n",
       "    .dataframe thead th {\n",
       "        text-align: right;\n",
       "    }\n",
       "</style>\n",
       "<table border=\"1\" class=\"dataframe\">\n",
       "  <thead>\n",
       "    <tr style=\"text-align: right;\">\n",
       "      <th></th>\n",
       "      <th>name</th>\n",
       "      <th>numerical_sigma</th>\n",
       "      <th>integral_result</th>\n",
       "      <th>integral_error</th>\n",
       "      <th>epsabs</th>\n",
       "    </tr>\n",
       "  </thead>\n",
       "  <tbody>\n",
       "    <tr>\n",
       "      <th>0</th>\n",
       "      <td>J2321-0939</td>\n",
       "      <td>240.101777</td>\n",
       "      <td>7446.749998</td>\n",
       "      <td>7.946850e+07</td>\n",
       "      <td>0.149</td>\n",
       "    </tr>\n",
       "    <tr>\n",
       "      <th>1</th>\n",
       "      <td>J1106+5228</td>\n",
       "      <td>222.047668</td>\n",
       "      <td>6932.458429</td>\n",
       "      <td>6.784547e+07</td>\n",
       "      <td>0.149</td>\n",
       "    </tr>\n",
       "    <tr>\n",
       "      <th>2</th>\n",
       "      <td>J1143-0144</td>\n",
       "      <td>264.867997</td>\n",
       "      <td>10395.782864</td>\n",
       "      <td>9.643616e+07</td>\n",
       "      <td>0.149</td>\n",
       "    </tr>\n",
       "    <tr>\n",
       "      <th>3</th>\n",
       "      <td>J0841+3824</td>\n",
       "      <td>230.106668</td>\n",
       "      <td>8225.243472</td>\n",
       "      <td>7.272054e+07</td>\n",
       "      <td>0.149</td>\n",
       "    </tr>\n",
       "    <tr>\n",
       "      <th>4</th>\n",
       "      <td>J0044+0113</td>\n",
       "      <td>252.925493</td>\n",
       "      <td>10113.812560</td>\n",
       "      <td>8.628597e+07</td>\n",
       "      <td>0.149</td>\n",
       "    </tr>\n",
       "  </tbody>\n",
       "</table>\n",
       "</div>"
      ],
      "text/plain": [
       "         name  numerical_sigma  integral_result  integral_error  epsabs\n",
       "0  J2321-0939       240.101777      7446.749998    7.946850e+07   0.149\n",
       "1  J1106+5228       222.047668      6932.458429    6.784547e+07   0.149\n",
       "2  J1143-0144       264.867997     10395.782864    9.643616e+07   0.149\n",
       "3  J0841+3824       230.106668      8225.243472    7.272054e+07   0.149\n",
       "4  J0044+0113       252.925493     10113.812560    8.628597e+07   0.149"
      ]
     },
     "execution_count": 3,
     "metadata": {},
     "output_type": "execute_result"
    }
   ],
   "source": [
    "numerical = pd.read_csv('results.csv')\n",
    "numerical.head()"
   ]
  },
  {
   "cell_type": "markdown",
   "id": "35ab6da0-1b72-46ed-b210-4ef6ac7117f8",
   "metadata": {},
   "source": [
    "## Performance evaluation"
   ]
  },
  {
   "cell_type": "code",
   "execution_count": 40,
   "id": "ac9e4d17-81e2-4eee-a71b-db590e497844",
   "metadata": {},
   "outputs": [
    {
     "data": {
      "text/plain": [
       "<AxesSubplot:xlabel='epsabs', ylabel='integral_error'>"
      ]
     },
     "execution_count": 40,
     "metadata": {},
     "output_type": "execute_result"
    },
    {
     "data": {
      "image/png": "[encoded data removed]",
      "text/plain": [
       "<Figure size 432x288 with 1 Axes>"
      ]
     },
     "metadata": {
      "needs_background": "light"
     },
     "output_type": "display_data"
    }
   ],
   "source": [
    "numerical.plot.scatter(\"epsabs\", \"integral_error\")"
   ]
  },
  {
   "cell_type": "code",
   "execution_count": 34,
   "id": "6cdcb988-1c98-461d-b9da-9913dfe59d3b",
   "metadata": {},
   "outputs": [
    {
     "data": {
      "text/html": [
       "<div>\n",
       "<style scoped>\n",
       "    .dataframe tbody tr th:only-of-type {\n",
       "        vertical-align: middle;\n",
       "    }\n",
       "\n",
       "    .dataframe tbody tr th {\n",
       "        vertical-align: top;\n",
       "    }\n",
       "\n",
       "    .dataframe thead th {\n",
       "        text-align: right;\n",
       "    }\n",
       "</style>\n",
       "<table border=\"1\" class=\"dataframe\">\n",
       "  <thead>\n",
       "    <tr style=\"text-align: right;\">\n",
       "      <th></th>\n",
       "      <th>name</th>\n",
       "      <th>numerical_sigma</th>\n",
       "      <th>integral_result</th>\n",
       "      <th>integral_error</th>\n",
       "      <th>epsabs</th>\n",
       "    </tr>\n",
       "  </thead>\n",
       "  <tbody>\n",
       "    <tr>\n",
       "      <th>0</th>\n",
       "      <td>J2321-0939</td>\n",
       "      <td>240.101777</td>\n",
       "      <td>7446.749998</td>\n",
       "      <td>7.946850e+07</td>\n",
       "      <td>0.149</td>\n",
       "    </tr>\n",
       "    <tr>\n",
       "      <th>1</th>\n",
       "      <td>J1106+5228</td>\n",
       "      <td>222.047668</td>\n",
       "      <td>6932.458429</td>\n",
       "      <td>6.784547e+07</td>\n",
       "      <td>0.149</td>\n",
       "    </tr>\n",
       "    <tr>\n",
       "      <th>2</th>\n",
       "      <td>J1143-0144</td>\n",
       "      <td>264.867997</td>\n",
       "      <td>10395.782864</td>\n",
       "      <td>9.643616e+07</td>\n",
       "      <td>0.149</td>\n",
       "    </tr>\n",
       "    <tr>\n",
       "      <th>3</th>\n",
       "      <td>J0841+3824</td>\n",
       "      <td>230.106668</td>\n",
       "      <td>8225.243472</td>\n",
       "      <td>7.272054e+07</td>\n",
       "      <td>0.149</td>\n",
       "    </tr>\n",
       "    <tr>\n",
       "      <th>4</th>\n",
       "      <td>J0044+0113</td>\n",
       "      <td>252.925493</td>\n",
       "      <td>10113.812560</td>\n",
       "      <td>8.628597e+07</td>\n",
       "      <td>0.149</td>\n",
       "    </tr>\n",
       "  </tbody>\n",
       "</table>\n",
       "</div>"
      ],
      "text/plain": [
       "         name  numerical_sigma  integral_result  integral_error  epsabs\n",
       "0  J2321-0939       240.101777      7446.749998    7.946850e+07   0.149\n",
       "1  J1106+5228       222.047668      6932.458429    6.784547e+07   0.149\n",
       "2  J1143-0144       264.867997     10395.782864    9.643616e+07   0.149\n",
       "3  J0841+3824       230.106668      8225.243472    7.272054e+07   0.149\n",
       "4  J0044+0113       252.925493     10113.812560    8.628597e+07   0.149"
      ]
     },
     "execution_count": 34,
     "metadata": {},
     "output_type": "execute_result"
    }
   ],
   "source": []
  },
  {
   "cell_type": "code",
   "execution_count": null,
   "id": "e4942cba-9e2e-4caf-a98f-1142ba0bb22f",
   "metadata": {},
   "outputs": [],
   "source": []
  },
  {
   "cell_type": "code",
   "execution_count": null,
   "id": "334ab268-a777-4085-a5a8-bcbe00445444",
   "metadata": {},
   "outputs": [],
   "source": []
  },
  {
   "cell_type": "markdown",
   "id": "e704db59-a6f1-4bf6-9539-2bc9c30d3cee",
   "metadata": {},
   "source": [
    "## The relative error\n",
    "The code solves numerically thi equation\n",
    "\n",
    "$$2\\int_0^{\\infty}\\int_R^{\\infty}\\omega(R)\\frac{\\nu(r)\\sigma^2_r(r)}{\\sqrt{r^2 - R^2}}\\left (1 - \\beta\\frac{R^2}{r^2}\\right )rdrRdR$$\n",
    "\n",
    "which has an analitical result\n",
    "\n",
    "$$ =  \\left [\\frac{1}{1 + \\gamma}\\frac{c^2}{2}\\frac{Ds}{Dsl}\\theta_E \\right ] \n",
    "\\frac{2}{\\sqrt{\\pi}\\lambda(\\alpha)(\\xi - 2\\beta)}\\left (\\frac{1}{R_E}\\right )^{2 - \\alpha}\\sqrt{\\pi}\\left [ \\lambda (\\xi)\n",
    "   - \\beta \\lambda(\\xi + 2) \\right ](2D_L^2\\tilde{\\sigma}^2_{atm})^{(3-\\xi)/2}\\frac{1}{2} \\Gamma\\left ( \\frac{3 - \\xi}{2} \\right ) $$\n",
    "\n",
    "\n"
   ]
  },
  {
   "cell_type": "code",
   "execution_count": 4,
   "id": "05fdd598-d436-4dc0-a7f2-44d8acf47065",
   "metadata": {},
   "outputs": [
    {
     "data": {
      "text/html": [
       "<div>\n",
       "<style scoped>\n",
       "    .dataframe tbody tr th:only-of-type {\n",
       "        vertical-align: middle;\n",
       "    }\n",
       "\n",
       "    .dataframe tbody tr th {\n",
       "        vertical-align: top;\n",
       "    }\n",
       "\n",
       "    .dataframe thead th {\n",
       "        text-align: right;\n",
       "    }\n",
       "</style>\n",
       "<table border=\"1\" class=\"dataframe\">\n",
       "  <thead>\n",
       "    <tr style=\"text-align: right;\">\n",
       "      <th></th>\n",
       "      <th>name</th>\n",
       "      <th>zl</th>\n",
       "      <th>zs</th>\n",
       "      <th>sigma_0</th>\n",
       "      <th>dsigma_0</th>\n",
       "      <th>theta_E</th>\n",
       "      <th>theta_ap</th>\n",
       "      <th>sigma_atm</th>\n",
       "      <th>sigma_ap</th>\n",
       "      <th>d_sigma_ap</th>\n",
       "    </tr>\n",
       "  </thead>\n",
       "  <tbody>\n",
       "    <tr>\n",
       "      <th>0</th>\n",
       "      <td>J2321-0939</td>\n",
       "      <td>0.082</td>\n",
       "      <td>0.532</td>\n",
       "      <td>246</td>\n",
       "      <td>8</td>\n",
       "      <td>1.60</td>\n",
       "      <td>1.5</td>\n",
       "      <td>1.4</td>\n",
       "      <td>249</td>\n",
       "      <td>8</td>\n",
       "    </tr>\n",
       "    <tr>\n",
       "      <th>1</th>\n",
       "      <td>J1106+5228</td>\n",
       "      <td>0.096</td>\n",
       "      <td>0.407</td>\n",
       "      <td>268</td>\n",
       "      <td>13</td>\n",
       "      <td>1.23</td>\n",
       "      <td>1.5</td>\n",
       "      <td>1.4</td>\n",
       "      <td>262</td>\n",
       "      <td>13</td>\n",
       "    </tr>\n",
       "    <tr>\n",
       "      <th>2</th>\n",
       "      <td>J1143-0144</td>\n",
       "      <td>0.106</td>\n",
       "      <td>0.402</td>\n",
       "      <td>264</td>\n",
       "      <td>13</td>\n",
       "      <td>1.68</td>\n",
       "      <td>1.5</td>\n",
       "      <td>1.4</td>\n",
       "      <td>269</td>\n",
       "      <td>13</td>\n",
       "    </tr>\n",
       "    <tr>\n",
       "      <th>3</th>\n",
       "      <td>J0841+3824</td>\n",
       "      <td>0.116</td>\n",
       "      <td>0.657</td>\n",
       "      <td>222</td>\n",
       "      <td>11</td>\n",
       "      <td>1.41</td>\n",
       "      <td>1.5</td>\n",
       "      <td>1.4</td>\n",
       "      <td>225</td>\n",
       "      <td>11</td>\n",
       "    </tr>\n",
       "    <tr>\n",
       "      <th>4</th>\n",
       "      <td>J0044+0113</td>\n",
       "      <td>0.120</td>\n",
       "      <td>0.196</td>\n",
       "      <td>267</td>\n",
       "      <td>13</td>\n",
       "      <td>0.79</td>\n",
       "      <td>1.5</td>\n",
       "      <td>1.4</td>\n",
       "      <td>266</td>\n",
       "      <td>13</td>\n",
       "    </tr>\n",
       "  </tbody>\n",
       "</table>\n",
       "</div>"
      ],
      "text/plain": [
       "         name     zl     zs  sigma_0  dsigma_0  theta_E  theta_ap  sigma_atm  \\\n",
       "0  J2321-0939  0.082  0.532      246         8     1.60       1.5        1.4   \n",
       "1  J1106+5228  0.096  0.407      268        13     1.23       1.5        1.4   \n",
       "2  J1143-0144  0.106  0.402      264        13     1.68       1.5        1.4   \n",
       "3  J0841+3824  0.116  0.657      222        11     1.41       1.5        1.4   \n",
       "4  J0044+0113  0.120  0.196      267        13     0.79       1.5        1.4   \n",
       "\n",
       "   sigma_ap  d_sigma_ap  \n",
       "0       249           8  \n",
       "1       262          13  \n",
       "2       269          13  \n",
       "3       225          11  \n",
       "4       266          13  "
      ]
     },
     "execution_count": 4,
     "metadata": {},
     "output_type": "execute_result"
    }
   ],
   "source": [
    "data = pd.read_csv('../data/sample80.csv')\n",
    "data.head()"
   ]
  },
  {
   "cell_type": "code",
   "execution_count": 10,
   "id": "90ae458a-3212-4aa3-a71d-93a5365fb1ab",
   "metadata": {},
   "outputs": [],
   "source": [
    "def analitical_integral(z_S, z_L, theta_E, seeing_atm, theta_ap, alpha,  delta, beta, gamma):\n",
    "    # Angular diameter distances:\n",
    "    DS = cosmo.angular_diameter_distance(z_S).value\n",
    "    DL = cosmo.angular_diameter_distance(z_L).value\n",
    "    DLS = cosmo.angular_diameter_distance_z1z2(z_L, z_S).value\n",
    "    RE = theta_E*DL \n",
    "    \n",
    "    c = (const.c).to(u.km/u.second) #light velocity in Km/s This is bc velocity dispersion is measured in (km/s)^2\n",
    "    clight = c.value\n",
    "     # \\tilde{\\sigma}\n",
    "    chi = theta_ap/seeing_atm\n",
    "\n",
    "    tilde_sigma = seeing_atm * \\\n",
    "        np.sqrt(1 + (chi ** 2) / 4 + (chi ** 4) / 40)  # Eq. (20)\n",
    "    \n",
    "    xi = alpha + delta - 2    \n",
    "    \n",
    "    ## constant \n",
    "    term_RE  = (1 / (1 + gamma)) * ((clight ** 2) / 2) * (DS / DLS) * theta_E\n",
    "    term_dynamic = 2/(((np.sqrt(np.pi)))*(Velocity_dispersion.Lambda_function(alpha))*(xi - (2*beta)))\n",
    "    cte = term_RE*term_dynamic/(RE**(2 - alpha))\n",
    "    \n",
    "    ##integral\n",
    "    x = (3 - xi)/2\n",
    "\n",
    "    #beta_term = sp.special.beta((xi - 1)/2,0.5) -  (beta*sp.special.beta((xi + 1)/2,0.5))\n",
    "    beta_term = np.sqrt(np.pi)*(Velocity_dispersion.Lambda_function(xi) - beta*Velocity_dispersion.Lambda_function(xi + 2))\n",
    "    seeing_term = 2*(DL**2)*(tilde_sigma**2)\n",
    "    gamma_term = sp.special.gamma(x)\n",
    "\n",
    "    return cte*beta_term*(seeing_term**x)*gamma_term/2"
   ]
  },
  {
   "cell_type": "code",
   "execution_count": 14,
   "id": "80e9a923-7ef9-494e-b1ba-ab409a0fac01",
   "metadata": {},
   "outputs": [
    {
     "data": {
      "text/plain": [
       "7610.464774939843"
      ]
     },
     "execution_count": 14,
     "metadata": {},
     "output_type": "execute_result"
    }
   ],
   "source": [
    "#### just to test if the above function is working #####\n",
    "### variables and unity convesion\n",
    "\n",
    "z_L = data['zl'][0]\n",
    "z_S = data['zs'][0]\n",
    "theta_E = (data['theta_E'].values * u.arcsec).to(u.rad)[0].value\n",
    "theta_ap = (data['theta_ap'].values * u.arcsec).to(u.rad)[0].value\n",
    "seeing_atm = (data['sigma_atm'].values * u.arcsec).to(u.rad)[0].value\n",
    "velDisp = data['sigma_ap'][0]\n",
    "velDispErr = data['d_sigma_ap'][0]\n",
    "#parameters not related to data\n",
    "alpha = 2.0\n",
    "beta = 0.18\n",
    "delta = 2.4\n",
    "gamma = 1.0\n",
    "\n",
    "analitical_integral(z_S, z_L, theta_E, seeing_atm, theta_ap, alpha,  delta, beta, gamma)"
   ]
  },
  {
   "cell_type": "code",
   "execution_count": 15,
   "id": "18eb3d56-2592-42b0-b9de-4558eb60dd1b",
   "metadata": {},
   "outputs": [],
   "source": [
    "#### Now I will create a data frame to compare with the numerical integral\n",
    "\n",
    "Analitical = []\n",
    "cols = (\"name\", \"z_S\", \"z_L\", \"theta_E\", \"theta_ap\",\"seeing_atm\",  \"analitical_result\")\n",
    "\n",
    "alpha = 2.0\n",
    "beta = 0.18\n",
    "delta = 2.4\n",
    "gamma = 1.0\n",
    "epsabs_values = (1.49e-01, 1.49e-02, 1.49e-03, 1.49e-04, 1.49e-05, 1.49e-06, 1.49e-07, 1.49e-08)\n",
    "data = pd.read_csv('../data/sample80.csv')\n",
    "\n",
    "for i in range(len(data)):\n",
    "    ## data\n",
    "    name = data['name'][i]\n",
    "    z_L = data['zl'][i]\n",
    "    z_S = data['zs'][i]\n",
    "    theta_E = (data['theta_E'].values * u.arcsec).to(u.rad)[i].value\n",
    "    theta_ap = (data['theta_ap'].values * u.arcsec).to(u.rad)[i].value\n",
    "    seeing_atm = (data['sigma_atm'].values * u.arcsec).to(u.rad)[i].value\n",
    "        \n",
    "    analitical_result = analitical_integral(z_S, z_L, theta_E, seeing_atm, theta_ap, alpha,  delta, beta, gamma)\n",
    "        \n",
    "    temp = (name, z_S, z_L, theta_E, theta_ap, seeing_atm, analitical_result)\n",
    "    Analitical.append (dict(zip(cols,temp)))\n",
    "        "
   ]
  },
  {
   "cell_type": "code",
   "execution_count": 16,
   "id": "07ff67ff-1cbd-4bcf-8174-ad4ce6ba39ff",
   "metadata": {},
   "outputs": [
    {
     "data": {
      "text/html": [
       "<div>\n",
       "<style scoped>\n",
       "    .dataframe tbody tr th:only-of-type {\n",
       "        vertical-align: middle;\n",
       "    }\n",
       "\n",
       "    .dataframe tbody tr th {\n",
       "        vertical-align: top;\n",
       "    }\n",
       "\n",
       "    .dataframe thead th {\n",
       "        text-align: right;\n",
       "    }\n",
       "</style>\n",
       "<table border=\"1\" class=\"dataframe\">\n",
       "  <thead>\n",
       "    <tr style=\"text-align: right;\">\n",
       "      <th></th>\n",
       "      <th>name</th>\n",
       "      <th>z_S</th>\n",
       "      <th>z_L</th>\n",
       "      <th>theta_E</th>\n",
       "      <th>theta_ap</th>\n",
       "      <th>seeing_atm</th>\n",
       "      <th>analitical_result</th>\n",
       "    </tr>\n",
       "  </thead>\n",
       "  <tbody>\n",
       "    <tr>\n",
       "      <th>0</th>\n",
       "      <td>J2321-0939</td>\n",
       "      <td>0.532</td>\n",
       "      <td>0.082</td>\n",
       "      <td>0.000008</td>\n",
       "      <td>0.000007</td>\n",
       "      <td>0.000007</td>\n",
       "      <td>7610.464775</td>\n",
       "    </tr>\n",
       "    <tr>\n",
       "      <th>1</th>\n",
       "      <td>J1106+5228</td>\n",
       "      <td>0.407</td>\n",
       "      <td>0.096</td>\n",
       "      <td>0.000006</td>\n",
       "      <td>0.000007</td>\n",
       "      <td>0.000007</td>\n",
       "      <td>7072.221482</td>\n",
       "    </tr>\n",
       "    <tr>\n",
       "      <th>2</th>\n",
       "      <td>J1143-0144</td>\n",
       "      <td>0.402</td>\n",
       "      <td>0.106</td>\n",
       "      <td>0.000008</td>\n",
       "      <td>0.000007</td>\n",
       "      <td>0.000007</td>\n",
       "      <td>10594.446458</td>\n",
       "    </tr>\n",
       "    <tr>\n",
       "      <th>3</th>\n",
       "      <td>J0841+3824</td>\n",
       "      <td>0.657</td>\n",
       "      <td>0.116</td>\n",
       "      <td>0.000007</td>\n",
       "      <td>0.000007</td>\n",
       "      <td>0.000007</td>\n",
       "      <td>8375.053857</td>\n",
       "    </tr>\n",
       "    <tr>\n",
       "      <th>4</th>\n",
       "      <td>J0044+0113</td>\n",
       "      <td>0.196</td>\n",
       "      <td>0.120</td>\n",
       "      <td>0.000004</td>\n",
       "      <td>0.000007</td>\n",
       "      <td>0.000007</td>\n",
       "      <td>10113.699232</td>\n",
       "    </tr>\n",
       "  </tbody>\n",
       "</table>\n",
       "</div>"
      ],
      "text/plain": [
       "         name    z_S    z_L   theta_E  theta_ap  seeing_atm  analitical_result\n",
       "0  J2321-0939  0.532  0.082  0.000008  0.000007    0.000007        7610.464775\n",
       "1  J1106+5228  0.407  0.096  0.000006  0.000007    0.000007        7072.221482\n",
       "2  J1143-0144  0.402  0.106  0.000008  0.000007    0.000007       10594.446458\n",
       "3  J0841+3824  0.657  0.116  0.000007  0.000007    0.000007        8375.053857\n",
       "4  J0044+0113  0.196  0.120  0.000004  0.000007    0.000007       10113.699232"
      ]
     },
     "execution_count": 16,
     "metadata": {},
     "output_type": "execute_result"
    }
   ],
   "source": [
    "Analitical = pd.DataFrame(Analitical)\n",
    "Analitical.head()"
   ]
  },
  {
   "cell_type": "code",
   "execution_count": 18,
   "id": "6efad17d-772d-4adf-8d46-3fa56ba1e000",
   "metadata": {},
   "outputs": [
    {
     "data": {
      "text/plain": [
       "name                  object\n",
       "z_S                  float64\n",
       "z_L                  float64\n",
       "theta_E              float64\n",
       "theta_ap             float64\n",
       "seeing_atm           float64\n",
       "analitical_result    float64\n",
       "dtype: object"
      ]
     },
     "execution_count": 18,
     "metadata": {},
     "output_type": "execute_result"
    }
   ],
   "source": [
    "Analitical.dtypes"
   ]
  },
  {
   "cell_type": "markdown",
   "id": "57f3459d-20c7-42d8-a8f1-f13dbffb56d9",
   "metadata": {},
   "source": [
    "So now I will compare the results"
   ]
  },
  {
   "cell_type": "code",
   "execution_count": 32,
   "id": "1115aebc-d024-4de7-8405-a9c77d73b70b",
   "metadata": {},
   "outputs": [
    {
     "data": {
      "text/plain": [
       "(array([20.,  0.,  0.,  0.,  3., 19., 22.,  8.,  6.,  2.]),\n",
       " array([1.04528515e-04, 2.14631530e-01, 4.29158531e-01, 6.43685532e-01,\n",
       "        8.58212533e-01, 1.07273953e+00, 1.28726654e+00, 1.50179354e+00,\n",
       "        1.71632054e+00, 1.93084754e+00, 2.14537454e+00]),\n",
       " <BarContainer object of 10 artists>)"
      ]
     },
     "execution_count": 32,
     "metadata": {},
     "output_type": "execute_result"
    },
    {
     "data": {
      "image/png": "[encoded data removed]",
      "text/plain": [
       "<Figure size 432x288 with 1 Axes>"
      ]
     },
     "metadata": {
      "needs_background": "light"
     },
     "output_type": "display_data"
    }
   ],
   "source": [
    "df_n04 = numerical[numerical[\"epsabs\"] == 1.49e-04]\n",
    "df_n04 = df_n04.set_index('name').join(Analitical.set_index('name'))\n",
    "### to calculate the relative error\n",
    "errors = []\n",
    "\n",
    "for i in df_n04.index:\n",
    "    errors.append(abs(df_n04['integral_result'][i] - df_n04['analitical_result'][i])/df_n04['analitical_result'][i]*100)\n",
    "    \n",
    "plt.hist(errors)"
   ]
  },
  {
   "cell_type": "code",
   "execution_count": 31,
   "id": "01bc7fae-b909-496a-915e-3e904a253ea8",
   "metadata": {},
   "outputs": [
    {
     "data": {
      "text/plain": [
       "(array([21.,  0.,  0.,  0.,  3., 18., 22.,  8.,  6.,  2.]),\n",
       " array([8.31623600e-05, 2.15465393e-01, 4.30847624e-01, 6.46229855e-01,\n",
       "        8.61612085e-01, 1.07699432e+00, 1.29237655e+00, 1.50775878e+00,\n",
       "        1.72314101e+00, 1.93852324e+00, 2.15390547e+00]),\n",
       " <BarContainer object of 10 artists>)"
      ]
     },
     "execution_count": 31,
     "metadata": {},
     "output_type": "execute_result"
    },
    {
     "data": {
      "image/png": "[encoded data removed]",
      "text/plain": [
       "<Figure size 432x288 with 1 Axes>"
      ]
     },
     "metadata": {
      "needs_background": "light"
     },
     "output_type": "display_data"
    }
   ],
   "source": [
    "df_n08 = numerical[numerical[\"epsabs\"] == 1.49e-08]\n",
    "df_n08 = df_n08.set_index('name').join(Analitical.set_index('name'))\n",
    "errors = []\n",
    "\n",
    "for i in df_n08.index:\n",
    "    errors.append(abs(df_n08['integral_result'][i] - df_n08['analitical_result'][i])/df_n08['analitical_result'][i]*100)\n",
    "    \n",
    "plt.hist(errors)\n"
   ]
  },
  {
   "cell_type": "markdown",
   "id": "9bccbe77-32d7-470a-840d-454d52d9536a",
   "metadata": {},
   "source": [
    "$$\n",
    " \\left \\langle \\sigma^2_{LOS,*} \\right \\rangle =  \\left [ \\frac{1}{1 + \\gamma}\\frac{c^2}{2}\\frac{D_s}{D_{ls}}\\theta_E \\right ]\\frac{2}{\\sqrt{\\pi}\\lambda(\\alpha)(\\xi - 2\\beta)}\\frac{\\left [ \\lambda(\\xi) - \\beta\\lambda(\\xi + 2) \\right ]}{\\lambda(\\delta)} \\left(\\frac{2\\tilde{\\sigma}^2_{atm}}{\\theta_E^2}\\right)^{(2-\\alpha)/2} \\frac{\\Gamma\\left ( \\frac{3 - \\xi}{2} \\right )}{\\Gamma\\left ( \\frac{3 - \\delta}{2} \\right )}\n",
    "$$\n"
   ]
  },
  {
   "cell_type": "markdown",
   "id": "ad268bf4-abdf-4227-93c6-04396012237a",
   "metadata": {},
   "source": [
    "### About pandas\n",
    "- to filter\n",
    "\n",
    "``` python\n",
    "\n",
    "df_n03 = df[df[\"epsabs\"] == 1.49e-03]\n",
    "\n",
    "```\n",
    "\n",
    "- to join\n",
    "\n",
    "``` python\n",
    "df_n03 = df_n03.set_index('name').join(df_a.set_index('name'))\n",
    "```\n",
    "\n",
    "- change the type \n",
    "``` python\n",
    "df_n03 = df_n03.astype('float64')\n",
    "```\n",
    "\n",
    "- get indices\n",
    "```python\n",
    "df_n04.index\n",
    "```\n"
   ]
  }
 ],
 "metadata": {
  "kernelspec": {
   "display_name": "Python 3 (ipykernel)",
   "language": "python",
   "name": "python3"
  },
  "language_info": {
   "codemirror_mode": {
    "name": "ipython",
    "version": 3
   },
   "file_extension": ".py",
   "mimetype": "text/x-python",
   "name": "python",
   "nbconvert_exporter": "python",
   "pygments_lexer": "ipython3",
   "version": "3.10.3"
  }
 },
 "nbformat": 4,
 "nbformat_minor": 5
}
