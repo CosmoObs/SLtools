{
 "cells": [
  {
   "cell_type": "markdown",
   "id": "4582fdcf-a978-46df-b330-b0ecc5794a86",
   "metadata": {},
   "source": [
    "# Few tests on the integration efficience"
   ]
  },
  {
   "cell_type": "code",
   "execution_count": 2,
   "id": "4ba1132e-a217-4918-ae36-3abc567b6a1d",
   "metadata": {},
   "outputs": [],
   "source": [
    "### libraries\n",
    "import sys\n",
    "\n",
    "sys.path.append('../')\n",
    "\n",
    "import Velocity_dispersion\n",
    "import rings2cosmo\n",
    "import pandas as pd\n",
    "import numpy as np\n",
    "import scipy as sp\n",
    "from matplotlib import pyplot as plt\n",
    "import seaborn\n",
    "\n",
    "from astropy import constants as const\n",
    "from astropy import units as u\n",
    "from astropy.cosmology import FlatLambdaCDM\n",
    "cosmo = FlatLambdaCDM(H0 = 67.3, Om0 = 0.315)"
   ]
  },
  {
   "cell_type": "code",
   "execution_count": 3,
   "id": "e675bd7d-4a78-450a-98d6-36fb0abc1b3e",
   "metadata": {},
   "outputs": [
    {
     "data": {
      "text/html": [
       "<div>\n",
       "<style scoped>\n",
       "    .dataframe tbody tr th:only-of-type {\n",
       "        vertical-align: middle;\n",
       "    }\n",
       "\n",
       "    .dataframe tbody tr th {\n",
       "        vertical-align: top;\n",
       "    }\n",
       "\n",
       "    .dataframe thead th {\n",
       "        text-align: right;\n",
       "    }\n",
       "</style>\n",
       "<table border=\"1\" class=\"dataframe\">\n",
       "  <thead>\n",
       "    <tr style=\"text-align: right;\">\n",
       "      <th></th>\n",
       "      <th>name</th>\n",
       "      <th>numerical_sigma</th>\n",
       "      <th>integral_result</th>\n",
       "      <th>integral_error</th>\n",
       "      <th>epsabs</th>\n",
       "    </tr>\n",
       "  </thead>\n",
       "  <tbody>\n",
       "    <tr>\n",
       "      <th>0</th>\n",
       "      <td>J2321-0939</td>\n",
       "      <td>240.101777</td>\n",
       "      <td>7446.749998</td>\n",
       "      <td>7.946850e+07</td>\n",
       "      <td>0.149</td>\n",
       "    </tr>\n",
       "    <tr>\n",
       "      <th>1</th>\n",
       "      <td>J1106+5228</td>\n",
       "      <td>222.047668</td>\n",
       "      <td>6932.458429</td>\n",
       "      <td>6.784547e+07</td>\n",
       "      <td>0.149</td>\n",
       "    </tr>\n",
       "    <tr>\n",
       "      <th>2</th>\n",
       "      <td>J1143-0144</td>\n",
       "      <td>264.867997</td>\n",
       "      <td>10395.782864</td>\n",
       "      <td>9.643616e+07</td>\n",
       "      <td>0.149</td>\n",
       "    </tr>\n",
       "    <tr>\n",
       "      <th>3</th>\n",
       "      <td>J0841+3824</td>\n",
       "      <td>230.106668</td>\n",
       "      <td>8225.243472</td>\n",
       "      <td>7.272054e+07</td>\n",
       "      <td>0.149</td>\n",
       "    </tr>\n",
       "    <tr>\n",
       "      <th>4</th>\n",
       "      <td>J0044+0113</td>\n",
       "      <td>252.925493</td>\n",
       "      <td>10113.812560</td>\n",
       "      <td>8.628597e+07</td>\n",
       "      <td>0.149</td>\n",
       "    </tr>\n",
       "  </tbody>\n",
       "</table>\n",
       "</div>"
      ],
      "text/plain": [
       "         name  numerical_sigma  integral_result  integral_error  epsabs\n",
       "0  J2321-0939       240.101777      7446.749998    7.946850e+07   0.149\n",
       "1  J1106+5228       222.047668      6932.458429    6.784547e+07   0.149\n",
       "2  J1143-0144       264.867997     10395.782864    9.643616e+07   0.149\n",
       "3  J0841+3824       230.106668      8225.243472    7.272054e+07   0.149\n",
       "4  J0044+0113       252.925493     10113.812560    8.628597e+07   0.149"
      ]
     },
     "execution_count": 3,
     "metadata": {},
     "output_type": "execute_result"
    }
   ],
   "source": [
    "numerical = pd.read_csv('results.csv')\n",
    "numerical.head()"
   ]
  },
  {
   "cell_type": "markdown",
   "id": "e704db59-a6f1-4bf6-9539-2bc9c30d3cee",
   "metadata": {},
   "source": [
    "Now I will gerate the analitical values for the same points udes before.\n",
    "\n",
    "The analitical expresion for $\\left \\langle  \\sigma^2_*\\right \\rangle$ with constant $\\beta$ is\n",
    "$$\n",
    " \\left \\langle \\sigma^2_{LOS,*} \\right \\rangle =\n",
    "    \\left [ \\frac{1}{1 + \\gamma}\\frac{c^2}{2}\\frac{D_s}{D_{ls}}\\theta_E \\right ]\n",
    "    \\frac{2}{\\sqrt{\\pi}\\lambda(\\alpha)(\\xi - 2\\beta)}\n",
    "   \\frac{\\left [ \\lambda(\\xi)\n",
    "   - \\beta\\lambda(\\xi + 2) \\right ]}{\\lambda(\\delta)}\n",
    "   \\left(\\frac{2\\tilde{\\sigma}^2_{atm}}{\\theta_E^2}\\right)^{(2-\\alpha)/2} \n",
    "   \\frac{\\Gamma\\left ( \\frac{3 - \\xi}{2} \\right )}{\\Gamma\\left ( \\frac{3 - \\delta}{2} \\right )}\n",
    "$$\n"
   ]
  },
  {
   "cell_type": "code",
   "execution_count": null,
   "id": "01bc7fae-b909-496a-915e-3e904a253ea8",
   "metadata": {},
   "outputs": [],
   "source": []
  },
  {
   "cell_type": "code",
   "execution_count": null,
   "id": "1c9e637d-4b8b-4d3f-b8aa-2c35b367f114",
   "metadata": {},
   "outputs": [],
   "source": []
  },
  {
   "cell_type": "markdown",
   "id": "ad268bf4-abdf-4227-93c6-04396012237a",
   "metadata": {},
   "source": [
    "### About pandas\n",
    "- to filter\n",
    "\n",
    "``` python\n",
    "\n",
    "df_n03 = df[df[\"epsabs\"] == 1.49e-03]\n",
    "\n",
    "```\n",
    "\n",
    "- to join\n",
    "\n",
    "``` python\n",
    "df_n03 = df_n03.set_index('name').join(df_a.set_index('name'))\n",
    "```\n",
    "\n",
    "- change the type \n",
    "``` python\n",
    "df_n03 = df_n03.astype('float64')\n",
    "```\n",
    "\n"
   ]
  }
 ],
 "metadata": {
  "kernelspec": {
   "display_name": "Python 3 (ipykernel)",
   "language": "python",
   "name": "python3"
  },
  "language_info": {
   "codemirror_mode": {
    "name": "ipython",
    "version": 3
   },
   "file_extension": ".py",
   "mimetype": "text/x-python",
   "name": "python",
   "nbconvert_exporter": "python",
   "pygments_lexer": "ipython3",
   "version": "3.10.3"
  }
 },
 "nbformat": 4,
 "nbformat_minor": 5
}
