{
 "cells": [
  {
   "cell_type": "code",
   "execution_count": 1,
   "id": "e7be8998-56b9-4bac-ba22-6186872a8eb6",
   "metadata": {},
   "outputs": [],
   "source": [
    "import sys\n",
    "\n",
    "sys.path.append('../')\n",
    "\n",
    "import rings2cosmo\n",
    "import pandas as pd"
   ]
  },
  {
   "cell_type": "markdown",
   "id": "638ac069-65ae-4a9d-b426-94231761ffb6",
   "metadata": {},
   "source": [
    "### Using 103 objects"
   ]
  },
  {
   "cell_type": "code",
   "execution_count": 2,
   "id": "b606fa4b-8c1e-4b0d-9496-e805564cf64a",
   "metadata": {},
   "outputs": [],
   "source": [
    "# data_full = pd.read_csv('../data/sample103.csv')\n",
    "# data_full.head()"
   ]
  },
  {
   "cell_type": "markdown",
   "id": "df77b596-a589-47f4-8e31-dbeebac8466e",
   "metadata": {
    "tags": []
   },
   "source": [
    "### Using 80 objects"
   ]
  },
  {
   "cell_type": "code",
   "execution_count": 3,
   "id": "c7a09467-3a63-4cb8-afbb-8006daeca21a",
   "metadata": {},
   "outputs": [
    {
     "data": {
      "text/html": [
       "<div>\n",
       "<style scoped>\n",
       "    .dataframe tbody tr th:only-of-type {\n",
       "        vertical-align: middle;\n",
       "    }\n",
       "\n",
       "    .dataframe tbody tr th {\n",
       "        vertical-align: top;\n",
       "    }\n",
       "\n",
       "    .dataframe thead th {\n",
       "        text-align: right;\n",
       "    }\n",
       "</style>\n",
       "<table border=\"1\" class=\"dataframe\">\n",
       "  <thead>\n",
       "    <tr style=\"text-align: right;\">\n",
       "      <th></th>\n",
       "      <th>name</th>\n",
       "      <th>zl</th>\n",
       "      <th>zs</th>\n",
       "      <th>sigma_0</th>\n",
       "      <th>dsigma_0</th>\n",
       "      <th>theta_E</th>\n",
       "      <th>theta_ap</th>\n",
       "      <th>sigma_atm</th>\n",
       "      <th>sigma_ap</th>\n",
       "      <th>d_sigma_ap</th>\n",
       "    </tr>\n",
       "  </thead>\n",
       "  <tbody>\n",
       "    <tr>\n",
       "      <th>0</th>\n",
       "      <td>J0151+0049</td>\n",
       "      <td>0.517</td>\n",
       "      <td>1.364</td>\n",
       "      <td>226.0</td>\n",
       "      <td>40.0</td>\n",
       "      <td>0.68</td>\n",
       "      <td>1.0</td>\n",
       "      <td>1.8</td>\n",
       "      <td>219.0</td>\n",
       "      <td>39.0</td>\n",
       "    </tr>\n",
       "    <tr>\n",
       "      <th>1</th>\n",
       "      <td>J0747+4448</td>\n",
       "      <td>0.437</td>\n",
       "      <td>0.897</td>\n",
       "      <td>277.0</td>\n",
       "      <td>51.0</td>\n",
       "      <td>0.61</td>\n",
       "      <td>1.0</td>\n",
       "      <td>1.8</td>\n",
       "      <td>281.0</td>\n",
       "      <td>52.0</td>\n",
       "    </tr>\n",
       "    <tr>\n",
       "      <th>2</th>\n",
       "      <td>J0830+5116</td>\n",
       "      <td>0.530</td>\n",
       "      <td>1.332</td>\n",
       "      <td>274.0</td>\n",
       "      <td>37.0</td>\n",
       "      <td>1.14</td>\n",
       "      <td>1.0</td>\n",
       "      <td>1.8</td>\n",
       "      <td>268.0</td>\n",
       "      <td>36.0</td>\n",
       "    </tr>\n",
       "    <tr>\n",
       "      <th>3</th>\n",
       "      <td>J0944-0147</td>\n",
       "      <td>0.539</td>\n",
       "      <td>1.179</td>\n",
       "      <td>207.0</td>\n",
       "      <td>35.0</td>\n",
       "      <td>0.72</td>\n",
       "      <td>1.0</td>\n",
       "      <td>1.8</td>\n",
       "      <td>204.0</td>\n",
       "      <td>34.0</td>\n",
       "    </tr>\n",
       "    <tr>\n",
       "      <th>4</th>\n",
       "      <td>J1215+0047</td>\n",
       "      <td>0.642</td>\n",
       "      <td>1.297</td>\n",
       "      <td>266.0</td>\n",
       "      <td>46.0</td>\n",
       "      <td>1.37</td>\n",
       "      <td>1.0</td>\n",
       "      <td>1.8</td>\n",
       "      <td>262.0</td>\n",
       "      <td>45.0</td>\n",
       "    </tr>\n",
       "  </tbody>\n",
       "</table>\n",
       "</div>"
      ],
      "text/plain": [
       "         name     zl     zs  sigma_0  dsigma_0  theta_E  theta_ap  sigma_atm  \\\n",
       "0  J0151+0049  0.517  1.364    226.0      40.0     0.68       1.0        1.8   \n",
       "1  J0747+4448  0.437  0.897    277.0      51.0     0.61       1.0        1.8   \n",
       "2  J0830+5116  0.530  1.332    274.0      37.0     1.14       1.0        1.8   \n",
       "3  J0944-0147  0.539  1.179    207.0      35.0     0.72       1.0        1.8   \n",
       "4  J1215+0047  0.642  1.297    266.0      46.0     1.37       1.0        1.8   \n",
       "\n",
       "   sigma_ap  d_sigma_ap  \n",
       "0     219.0        39.0  \n",
       "1     281.0        52.0  \n",
       "2     268.0        36.0  \n",
       "3     204.0        34.0  \n",
       "4     262.0        45.0  "
      ]
     },
     "execution_count": 3,
     "metadata": {},
     "output_type": "execute_result"
    }
   ],
   "source": [
    "data_80 = pd.read_csv('../data/sample80.csv')\n",
    "data_80.head()"
   ]
  },
  {
   "cell_type": "code",
   "execution_count": 4,
   "id": "c1716017-5585-4669-8cc2-bc2929c54dde",
   "metadata": {},
   "outputs": [
    {
     "data": {
      "text/plain": [
       "80"
      ]
     },
     "execution_count": 4,
     "metadata": {},
     "output_type": "execute_result"
    }
   ],
   "source": [
    "len(data_80)"
   ]
  },
  {
   "cell_type": "code",
   "execution_count": 5,
   "id": "91cf66ce-b429-4dff-ad35-f7809fe597de",
   "metadata": {
    "tags": []
   },
   "outputs": [],
   "source": [
    "data = data_80\n",
    "z_L = data['zl'].values\n",
    "z_S = data['zs'].values\n",
    "theta_E = (data['theta_E'].values * rings2cosmo.u.arcsec).to(rings2cosmo.u.rad).value\n",
    "theta_ap = (data['theta_ap'].values * rings2cosmo.u.arcsec).to(rings2cosmo.u.rad).value\n",
    "seeing_atm = (data['sigma_atm'].values * rings2cosmo.u.arcsec).to(rings2cosmo.u.rad).value\n",
    "velDisp = data['sigma_ap'].values\n",
    "velDispErr = data['d_sigma_ap'].values"
   ]
  },
  {
   "cell_type": "code",
   "execution_count": 6,
   "id": "9cb184d5-cfac-45e7-b769-6140618090c1",
   "metadata": {},
   "outputs": [
    {
     "data": {
      "text/plain": [
       "(1.857292469742536, 0.07619546575730705, 0.743152488980482)"
      ]
     },
     "execution_count": 6,
     "metadata": {},
     "output_type": "execute_result"
    }
   ],
   "source": [
    "rings2cosmo.minimization_loglikelihood(z_S, z_L, velDisp, velDispErr, theta_E, seeing_atm, theta_ap, \n",
    "                               seed = 11, alpha_ini = 2.0, beta_ini = 0.18, gamma_ini = 1.0, delta = 2.4)"
   ]
  },
  {
   "cell_type": "code",
   "execution_count": 7,
   "id": "a7bbff2c-59c7-4ad3-aef7-c711ce95a11b",
   "metadata": {},
   "outputs": [
    {
     "name": "stderr",
     "output_type": "stream",
     "text": [
      "/share/storage1/TNG/Softwares/anaconda3-2020.02/lib/python3.7/site-packages/scipy/optimize/_numdiff.py:557: RuntimeWarning: invalid value encountered in subtract\n",
      "  df = fun(x) - f0\n"
     ]
    },
    {
     "data": {
      "text/plain": [
       "array([1.99560323, 0.17999999, 1.02103373])"
      ]
     },
     "execution_count": 7,
     "metadata": {},
     "output_type": "execute_result"
    }
   ],
   "source": [
    "rings2cosmo.minimization_logprobability(z_S, z_L, velDisp, velDispErr, theta_E, seeing_atm, theta_ap, \n",
    "                                seed = 11, alpha_ini = 2.0, beta_ini = 0.18, gamma_ini = 1.0, delta = 2.4, \\\n",
    "                                alpha_0_value = 2.0, eps_alpha_0_value = 0.08, beta_0_value = 0.18, eps_beta_0_value = 0.13)"
   ]
  },
  {
   "cell_type": "code",
   "execution_count": 8,
   "id": "f69d88f2-56da-46e2-9362-377299f1bb7d",
   "metadata": {
    "tags": []
   },
   "outputs": [
    {
     "name": "stdout",
     "output_type": "stream",
     "text": [
      "Running burn-in ...\n"
     ]
    },
    {
     "name": "stderr",
     "output_type": "stream",
     "text": [
      "100%|████████████████████████████████████████████████████████████| 500/500 [00:10<00:00, 47.90it/s]\n"
     ]
    },
    {
     "name": "stdout",
     "output_type": "stream",
     "text": [
      "Sampling ...\n"
     ]
    },
    {
     "name": "stderr",
     "output_type": "stream",
     "text": [
      "100%|██████████████████████████████████████████████████████████| 1000/1000 [00:20<00:00, 48.19it/s]\n"
     ]
    },
    {
     "data": {
      "text/plain": [
       "<emcee.ensemble.EnsembleSampler at 0x7fc932b5f490>"
      ]
     },
     "execution_count": 8,
     "metadata": {},
     "output_type": "execute_result"
    }
   ],
   "source": [
    "rings2cosmo.logprobability_sampling(z_S, z_L, velDisp, velDispErr, theta_E, seeing_atm, theta_ap, \n",
    "                            seed = 11, alpha_ini = 2.0, beta_ini = 0.18, gamma_ini = 1.0, delta = 2.4, \n",
    "                            alpha_0_value = 2.0, eps_alpha_0_value = 0.08, beta_0_value = 0.18, eps_beta_0_value = 0.13, \n",
    "                            n_dim = 3, n_walkers = 64, n_burn = 500, n_steps = 1000, progress = True, processes = 10)"
   ]
  },
  {
   "cell_type": "markdown",
   "id": "52f621aa-fbce-4d46-8b48-ffce22e37410",
   "metadata": {},
   "source": [
    "Add ploting information...\n",
    "\n",
    "add hide_print option if progress = False"
   ]
  }
 ],
 "metadata": {
  "kernelspec": {
   "display_name": "Python 3.7.10 64-bit ('base': conda)",
   "language": "python",
   "name": "python3710jvsc74a57bd09de8d3d5cb48a36dbb6a39507917ad63b29d7dd4f473558af07e3d35bcc01d6a"
  },
  "language_info": {
   "codemirror_mode": {
    "name": "ipython",
    "version": 3
   },
   "file_extension": ".py",
   "mimetype": "text/x-python",
   "name": "python",
   "nbconvert_exporter": "python",
   "pygments_lexer": "ipython3",
   "version": "3.7.11"
  }
 },
 "nbformat": 4,
 "nbformat_minor": 5
}
